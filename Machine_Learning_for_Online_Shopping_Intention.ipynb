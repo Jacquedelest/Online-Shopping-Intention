{
  "nbformat": 4,
  "nbformat_minor": 0,
  "metadata": {
    "colab": {
      "name": "Machine Learning for Online Shopping Intention",
      "provenance": [],
      "collapsed_sections": [
        "wNNZqsgqhfI5",
        "Uk5bw9yeHR19",
        "jv6g5njjGrjY"
      ],
      "authorship_tag": "ABX9TyN6GzNstf5SuPMHkIiq2SAg",
      "include_colab_link": true
    },
    "kernelspec": {
      "name": "python3",
      "display_name": "Python 3"
    },
    "language_info": {
      "name": "python"
    }
  },
  "cells": [
    {
      "cell_type": "markdown",
      "metadata": {
        "id": "view-in-github",
        "colab_type": "text"
      },
      "source": [
        "<a href=\"https://colab.research.google.com/github/Jacquedelest/Online-Shopping-Intention/blob/master/Machine_Learning_for_Online_Shopping_Intention.ipynb\" target=\"_parent\"><img src=\"https://colab.research.google.com/assets/colab-badge.svg\" alt=\"Open In Colab\"/></a>"
      ]
    },
    {
      "cell_type": "markdown",
      "metadata": {
        "id": "1ZrU1QcZeNAB"
      },
      "source": [
        "Import libraries"
      ]
    },
    {
      "cell_type": "code",
      "metadata": {
        "id": "YzQneYwaPZMW"
      },
      "source": [
        "import pandas as pd\n",
        "import numpy as np\n",
        "\n",
        "import matplotlib.pyplot as plt\n",
        "import seaborn as sns\n",
        "\n",
        "from sklearn.preprocessing import MinMaxScaler\n",
        "from sklearn.preprocessing import LabelEncoder\n",
        "\n",
        "from sklearn.model_selection import train_test_split\n",
        "\n",
        "from sklearn.metrics import confusion_matrix, classification_report\n",
        "\n",
        "from sklearn.tree import DecisionTreeClassifier\n",
        "\n",
        "from sklearn.linear_model import LogisticRegression\n",
        "\n",
        "from sklearn.ensemble import RandomForestClassifier\n",
        "from sklearn.model_selection import train_test_split, GridSearchCV\n",
        "from sklearn.metrics import accuracy_score"
      ],
      "execution_count": 105,
      "outputs": []
    },
    {
      "cell_type": "markdown",
      "metadata": {
        "id": "wNNZqsgqhfI5"
      },
      "source": [
        "# Data Exploratory"
      ]
    },
    {
      "cell_type": "markdown",
      "metadata": {
        "id": "_M-3okgpeP4J"
      },
      "source": [
        "Import dataset"
      ]
    },
    {
      "cell_type": "code",
      "metadata": {
        "id": "9TheI6fneJsZ"
      },
      "source": [
        "dataset = pd.read_csv('online_shoppers_intention.csv')"
      ],
      "execution_count": 2,
      "outputs": []
    },
    {
      "cell_type": "markdown",
      "metadata": {
        "id": "qRTpiCrpgJRI"
      },
      "source": [
        "Check size of dataframe"
      ]
    },
    {
      "cell_type": "code",
      "metadata": {
        "colab": {
          "base_uri": "https://localhost:8080/"
        },
        "id": "9aH9jGRKeY-F",
        "outputId": "633ddd2f-347b-41d1-ac1e-6912990e6ff5"
      },
      "source": [
        "print('Shape dataset:', dataset.shape)"
      ],
      "execution_count": 4,
      "outputs": [
        {
          "output_type": "stream",
          "text": [
            "Shape dataset: (12330, 18)\n"
          ],
          "name": "stdout"
        }
      ]
    },
    {
      "cell_type": "code",
      "metadata": {
        "colab": {
          "base_uri": "https://localhost:8080/",
          "height": 224
        },
        "id": "gDTKRlFlgFZx",
        "outputId": "972314a3-f319-4d0b-c34b-2ccfcae67e13"
      },
      "source": [
        "dataset.head()"
      ],
      "execution_count": 32,
      "outputs": [
        {
          "output_type": "execute_result",
          "data": {
            "text/html": [
              "<div>\n",
              "<style scoped>\n",
              "    .dataframe tbody tr th:only-of-type {\n",
              "        vertical-align: middle;\n",
              "    }\n",
              "\n",
              "    .dataframe tbody tr th {\n",
              "        vertical-align: top;\n",
              "    }\n",
              "\n",
              "    .dataframe thead th {\n",
              "        text-align: right;\n",
              "    }\n",
              "</style>\n",
              "<table border=\"1\" class=\"dataframe\">\n",
              "  <thead>\n",
              "    <tr style=\"text-align: right;\">\n",
              "      <th></th>\n",
              "      <th>Administrative</th>\n",
              "      <th>Administrative_Duration</th>\n",
              "      <th>Informational</th>\n",
              "      <th>Informational_Duration</th>\n",
              "      <th>ProductRelated</th>\n",
              "      <th>ProductRelated_Duration</th>\n",
              "      <th>BounceRates</th>\n",
              "      <th>ExitRates</th>\n",
              "      <th>PageValues</th>\n",
              "      <th>SpecialDay</th>\n",
              "      <th>Month</th>\n",
              "      <th>OperatingSystems</th>\n",
              "      <th>Browser</th>\n",
              "      <th>Region</th>\n",
              "      <th>TrafficType</th>\n",
              "      <th>VisitorType</th>\n",
              "      <th>Weekend</th>\n",
              "      <th>Revenue</th>\n",
              "    </tr>\n",
              "  </thead>\n",
              "  <tbody>\n",
              "    <tr>\n",
              "      <th>0</th>\n",
              "      <td>0.0</td>\n",
              "      <td>0.0</td>\n",
              "      <td>0.0</td>\n",
              "      <td>0.0</td>\n",
              "      <td>0.001418</td>\n",
              "      <td>0.000000</td>\n",
              "      <td>1.00</td>\n",
              "      <td>1.00</td>\n",
              "      <td>0.0</td>\n",
              "      <td>0.0</td>\n",
              "      <td>Feb</td>\n",
              "      <td>1</td>\n",
              "      <td>1</td>\n",
              "      <td>1</td>\n",
              "      <td>1</td>\n",
              "      <td>Returning_Visitor</td>\n",
              "      <td>False</td>\n",
              "      <td>False</td>\n",
              "    </tr>\n",
              "    <tr>\n",
              "      <th>1</th>\n",
              "      <td>0.0</td>\n",
              "      <td>0.0</td>\n",
              "      <td>0.0</td>\n",
              "      <td>0.0</td>\n",
              "      <td>0.002837</td>\n",
              "      <td>0.001000</td>\n",
              "      <td>0.00</td>\n",
              "      <td>0.50</td>\n",
              "      <td>0.0</td>\n",
              "      <td>0.0</td>\n",
              "      <td>Feb</td>\n",
              "      <td>2</td>\n",
              "      <td>2</td>\n",
              "      <td>1</td>\n",
              "      <td>2</td>\n",
              "      <td>Returning_Visitor</td>\n",
              "      <td>False</td>\n",
              "      <td>False</td>\n",
              "    </tr>\n",
              "    <tr>\n",
              "      <th>2</th>\n",
              "      <td>0.0</td>\n",
              "      <td>0.0</td>\n",
              "      <td>0.0</td>\n",
              "      <td>0.0</td>\n",
              "      <td>0.001418</td>\n",
              "      <td>0.000000</td>\n",
              "      <td>1.00</td>\n",
              "      <td>1.00</td>\n",
              "      <td>0.0</td>\n",
              "      <td>0.0</td>\n",
              "      <td>Feb</td>\n",
              "      <td>4</td>\n",
              "      <td>1</td>\n",
              "      <td>9</td>\n",
              "      <td>3</td>\n",
              "      <td>Returning_Visitor</td>\n",
              "      <td>False</td>\n",
              "      <td>False</td>\n",
              "    </tr>\n",
              "    <tr>\n",
              "      <th>3</th>\n",
              "      <td>0.0</td>\n",
              "      <td>0.0</td>\n",
              "      <td>0.0</td>\n",
              "      <td>0.0</td>\n",
              "      <td>0.002837</td>\n",
              "      <td>0.000042</td>\n",
              "      <td>0.25</td>\n",
              "      <td>0.70</td>\n",
              "      <td>0.0</td>\n",
              "      <td>0.0</td>\n",
              "      <td>Feb</td>\n",
              "      <td>3</td>\n",
              "      <td>2</td>\n",
              "      <td>2</td>\n",
              "      <td>4</td>\n",
              "      <td>Returning_Visitor</td>\n",
              "      <td>False</td>\n",
              "      <td>False</td>\n",
              "    </tr>\n",
              "    <tr>\n",
              "      <th>4</th>\n",
              "      <td>0.0</td>\n",
              "      <td>0.0</td>\n",
              "      <td>0.0</td>\n",
              "      <td>0.0</td>\n",
              "      <td>0.014184</td>\n",
              "      <td>0.009809</td>\n",
              "      <td>0.10</td>\n",
              "      <td>0.25</td>\n",
              "      <td>0.0</td>\n",
              "      <td>0.0</td>\n",
              "      <td>Feb</td>\n",
              "      <td>3</td>\n",
              "      <td>3</td>\n",
              "      <td>1</td>\n",
              "      <td>4</td>\n",
              "      <td>Returning_Visitor</td>\n",
              "      <td>True</td>\n",
              "      <td>False</td>\n",
              "    </tr>\n",
              "  </tbody>\n",
              "</table>\n",
              "</div>"
            ],
            "text/plain": [
              "   Administrative  Administrative_Duration  ...  Weekend  Revenue\n",
              "0             0.0                      0.0  ...    False    False\n",
              "1             0.0                      0.0  ...    False    False\n",
              "2             0.0                      0.0  ...    False    False\n",
              "3             0.0                      0.0  ...    False    False\n",
              "4             0.0                      0.0  ...     True    False\n",
              "\n",
              "[5 rows x 18 columns]"
            ]
          },
          "metadata": {
            "tags": []
          },
          "execution_count": 32
        }
      ]
    },
    {
      "cell_type": "code",
      "metadata": {
        "colab": {
          "base_uri": "https://localhost:8080/",
          "height": 224
        },
        "id": "7SVhmXHm4we8",
        "outputId": "530d2883-9a94-44b0-f5ed-197bc6398882"
      },
      "source": [
        "dataset.tail()"
      ],
      "execution_count": 31,
      "outputs": [
        {
          "output_type": "execute_result",
          "data": {
            "text/html": [
              "<div>\n",
              "<style scoped>\n",
              "    .dataframe tbody tr th:only-of-type {\n",
              "        vertical-align: middle;\n",
              "    }\n",
              "\n",
              "    .dataframe tbody tr th {\n",
              "        vertical-align: top;\n",
              "    }\n",
              "\n",
              "    .dataframe thead th {\n",
              "        text-align: right;\n",
              "    }\n",
              "</style>\n",
              "<table border=\"1\" class=\"dataframe\">\n",
              "  <thead>\n",
              "    <tr style=\"text-align: right;\">\n",
              "      <th></th>\n",
              "      <th>Administrative</th>\n",
              "      <th>Administrative_Duration</th>\n",
              "      <th>Informational</th>\n",
              "      <th>Informational_Duration</th>\n",
              "      <th>ProductRelated</th>\n",
              "      <th>ProductRelated_Duration</th>\n",
              "      <th>BounceRates</th>\n",
              "      <th>ExitRates</th>\n",
              "      <th>PageValues</th>\n",
              "      <th>SpecialDay</th>\n",
              "      <th>Month</th>\n",
              "      <th>OperatingSystems</th>\n",
              "      <th>Browser</th>\n",
              "      <th>Region</th>\n",
              "      <th>TrafficType</th>\n",
              "      <th>VisitorType</th>\n",
              "      <th>Weekend</th>\n",
              "      <th>Revenue</th>\n",
              "    </tr>\n",
              "  </thead>\n",
              "  <tbody>\n",
              "    <tr>\n",
              "      <th>12325</th>\n",
              "      <td>0.111111</td>\n",
              "      <td>0.042663</td>\n",
              "      <td>0.0</td>\n",
              "      <td>0.0</td>\n",
              "      <td>0.075177</td>\n",
              "      <td>0.027883</td>\n",
              "      <td>0.035714</td>\n",
              "      <td>0.145153</td>\n",
              "      <td>0.033839</td>\n",
              "      <td>0.0</td>\n",
              "      <td>Dec</td>\n",
              "      <td>4</td>\n",
              "      <td>6</td>\n",
              "      <td>1</td>\n",
              "      <td>1</td>\n",
              "      <td>Returning_Visitor</td>\n",
              "      <td>True</td>\n",
              "      <td>False</td>\n",
              "    </tr>\n",
              "    <tr>\n",
              "      <th>12326</th>\n",
              "      <td>0.000000</td>\n",
              "      <td>0.000000</td>\n",
              "      <td>0.0</td>\n",
              "      <td>0.0</td>\n",
              "      <td>0.007092</td>\n",
              "      <td>0.007280</td>\n",
              "      <td>0.000000</td>\n",
              "      <td>0.106667</td>\n",
              "      <td>0.000000</td>\n",
              "      <td>0.0</td>\n",
              "      <td>Nov</td>\n",
              "      <td>3</td>\n",
              "      <td>2</td>\n",
              "      <td>1</td>\n",
              "      <td>8</td>\n",
              "      <td>Returning_Visitor</td>\n",
              "      <td>True</td>\n",
              "      <td>False</td>\n",
              "    </tr>\n",
              "    <tr>\n",
              "      <th>12327</th>\n",
              "      <td>0.000000</td>\n",
              "      <td>0.000000</td>\n",
              "      <td>0.0</td>\n",
              "      <td>0.0</td>\n",
              "      <td>0.008511</td>\n",
              "      <td>0.002880</td>\n",
              "      <td>0.416667</td>\n",
              "      <td>0.433333</td>\n",
              "      <td>0.000000</td>\n",
              "      <td>0.0</td>\n",
              "      <td>Nov</td>\n",
              "      <td>3</td>\n",
              "      <td>2</td>\n",
              "      <td>1</td>\n",
              "      <td>13</td>\n",
              "      <td>Returning_Visitor</td>\n",
              "      <td>True</td>\n",
              "      <td>False</td>\n",
              "    </tr>\n",
              "    <tr>\n",
              "      <th>12328</th>\n",
              "      <td>0.148148</td>\n",
              "      <td>0.022067</td>\n",
              "      <td>0.0</td>\n",
              "      <td>0.0</td>\n",
              "      <td>0.021277</td>\n",
              "      <td>0.005408</td>\n",
              "      <td>0.000000</td>\n",
              "      <td>0.105263</td>\n",
              "      <td>0.000000</td>\n",
              "      <td>0.0</td>\n",
              "      <td>Nov</td>\n",
              "      <td>2</td>\n",
              "      <td>2</td>\n",
              "      <td>3</td>\n",
              "      <td>11</td>\n",
              "      <td>Returning_Visitor</td>\n",
              "      <td>False</td>\n",
              "      <td>False</td>\n",
              "    </tr>\n",
              "    <tr>\n",
              "      <th>12329</th>\n",
              "      <td>0.000000</td>\n",
              "      <td>0.000000</td>\n",
              "      <td>0.0</td>\n",
              "      <td>0.0</td>\n",
              "      <td>0.004255</td>\n",
              "      <td>0.000332</td>\n",
              "      <td>0.000000</td>\n",
              "      <td>0.333333</td>\n",
              "      <td>0.000000</td>\n",
              "      <td>0.0</td>\n",
              "      <td>Nov</td>\n",
              "      <td>3</td>\n",
              "      <td>2</td>\n",
              "      <td>1</td>\n",
              "      <td>2</td>\n",
              "      <td>New_Visitor</td>\n",
              "      <td>True</td>\n",
              "      <td>False</td>\n",
              "    </tr>\n",
              "  </tbody>\n",
              "</table>\n",
              "</div>"
            ],
            "text/plain": [
              "       Administrative  Administrative_Duration  ...  Weekend  Revenue\n",
              "12325        0.111111                 0.042663  ...     True    False\n",
              "12326        0.000000                 0.000000  ...     True    False\n",
              "12327        0.000000                 0.000000  ...     True    False\n",
              "12328        0.148148                 0.022067  ...    False    False\n",
              "12329        0.000000                 0.000000  ...     True    False\n",
              "\n",
              "[5 rows x 18 columns]"
            ]
          },
          "metadata": {
            "tags": []
          },
          "execution_count": 31
        }
      ]
    },
    {
      "cell_type": "markdown",
      "metadata": {
        "id": "_GtGp7vy3H0T"
      },
      "source": [
        "Data Set Information:\n",
        "\n",
        "The dataset consists of feature vectors belonging to 12,330 sessions.\n",
        "The dataset was formed so that each session\n",
        "would belong to a different user in a 1-year period to avoid\n",
        "any tendency to a specific campaign, special day, user\n",
        "profile, or period.\n",
        "\n",
        "Attribute Information:\n",
        "\n",
        "The dataset consists of 10 numerical and 8 categorical attributes.\n",
        "The `Revenue` attribute can be used as the class label.\n",
        "\n",
        "`Administrative`, `Administrative Duration`, `Informational`, `Informational Duration`, `Product Related` and `Product Related Duration` represent the number of different types of pages visited by the visitor in that session and total time spent in each of these page categories. The values of these features are derived from the URL information of the pages visited by the user and updated in real time when a user takes an action, e.g. moving from one page to another. \n",
        "\n",
        "The `Bounce Rate`,`Exit Rate` and `Page Value` features represent the metrics measured by \"Google Analytics\" for each page in the e-commerce site. The value of `Bounce Rate` feature for a web page refers to the percentage of visitors who enter the site from that page and then leave (\"bounce\") without triggering any other requests to the analytics server during that session. The value of `Exit Rate` feature for a specific web page is calculated as for all pageviews to the page, the percentage that were the last in the session. The `Page Value` feature represents the average value for a web page that a user visited before completing an e-commerce transaction. \n",
        "\n",
        "The `Special Day` feature indicates the closeness of the site visiting time to a specific special day (e.g. Mother’s Day, Valentine's Day) in which the sessions are more likely to be finalized with transaction. The value of this attribute is determined by considering the dynamics of e-commerce such as the duration between the order date and delivery date. For example, for Valentina’s day, this value takes a nonzero value between February 2 and February 12, zero before and after this date unless it is close to another special day, and its maximum value of 1 on February 8. The dataset also includes operating system, browser, region, traffic type, visitor type as returning or new visitor, a Boolean value indicating whether the date of the visit is weekend, and month of the year."
      ]
    },
    {
      "cell_type": "markdown",
      "metadata": {
        "id": "lMO-Qsc0gdWh"
      },
      "source": [
        "Check information about dataframe"
      ]
    },
    {
      "cell_type": "code",
      "metadata": {
        "colab": {
          "base_uri": "https://localhost:8080/"
        },
        "id": "Zff5dRPiebyK",
        "outputId": "caef0456-6d65-4677-9919-c8c2cdebe4a9"
      },
      "source": [
        "dataset.info()"
      ],
      "execution_count": 6,
      "outputs": [
        {
          "output_type": "stream",
          "text": [
            "<class 'pandas.core.frame.DataFrame'>\n",
            "RangeIndex: 12330 entries, 0 to 12329\n",
            "Data columns (total 18 columns):\n",
            " #   Column                   Non-Null Count  Dtype  \n",
            "---  ------                   --------------  -----  \n",
            " 0   Administrative           12330 non-null  int64  \n",
            " 1   Administrative_Duration  12330 non-null  float64\n",
            " 2   Informational            12330 non-null  int64  \n",
            " 3   Informational_Duration   12330 non-null  float64\n",
            " 4   ProductRelated           12330 non-null  int64  \n",
            " 5   ProductRelated_Duration  12330 non-null  float64\n",
            " 6   BounceRates              12330 non-null  float64\n",
            " 7   ExitRates                12330 non-null  float64\n",
            " 8   PageValues               12330 non-null  float64\n",
            " 9   SpecialDay               12330 non-null  float64\n",
            " 10  Month                    12330 non-null  object \n",
            " 11  OperatingSystems         12330 non-null  int64  \n",
            " 12  Browser                  12330 non-null  int64  \n",
            " 13  Region                   12330 non-null  int64  \n",
            " 14  TrafficType              12330 non-null  int64  \n",
            " 15  VisitorType              12330 non-null  object \n",
            " 16  Weekend                  12330 non-null  bool   \n",
            " 17  Revenue                  12330 non-null  bool   \n",
            "dtypes: bool(2), float64(7), int64(7), object(2)\n",
            "memory usage: 1.5+ MB\n"
          ],
          "name": "stdout"
        }
      ]
    },
    {
      "cell_type": "markdown",
      "metadata": {
        "id": "8Gkw7YmXg_6i"
      },
      "source": [
        "See descriptive statistics of dataframe"
      ]
    },
    {
      "cell_type": "code",
      "metadata": {
        "colab": {
          "base_uri": "https://localhost:8080/",
          "height": 317
        },
        "id": "72vrTl97gaaJ",
        "outputId": "8effac30-75ad-4c26-f934-d4a8b1dda224"
      },
      "source": [
        "#numerical columns\n",
        "dataset.describe()"
      ],
      "execution_count": 7,
      "outputs": [
        {
          "output_type": "execute_result",
          "data": {
            "text/html": [
              "<div>\n",
              "<style scoped>\n",
              "    .dataframe tbody tr th:only-of-type {\n",
              "        vertical-align: middle;\n",
              "    }\n",
              "\n",
              "    .dataframe tbody tr th {\n",
              "        vertical-align: top;\n",
              "    }\n",
              "\n",
              "    .dataframe thead th {\n",
              "        text-align: right;\n",
              "    }\n",
              "</style>\n",
              "<table border=\"1\" class=\"dataframe\">\n",
              "  <thead>\n",
              "    <tr style=\"text-align: right;\">\n",
              "      <th></th>\n",
              "      <th>Administrative</th>\n",
              "      <th>Administrative_Duration</th>\n",
              "      <th>Informational</th>\n",
              "      <th>Informational_Duration</th>\n",
              "      <th>ProductRelated</th>\n",
              "      <th>ProductRelated_Duration</th>\n",
              "      <th>BounceRates</th>\n",
              "      <th>ExitRates</th>\n",
              "      <th>PageValues</th>\n",
              "      <th>SpecialDay</th>\n",
              "      <th>OperatingSystems</th>\n",
              "      <th>Browser</th>\n",
              "      <th>Region</th>\n",
              "      <th>TrafficType</th>\n",
              "    </tr>\n",
              "  </thead>\n",
              "  <tbody>\n",
              "    <tr>\n",
              "      <th>count</th>\n",
              "      <td>12330.000000</td>\n",
              "      <td>12330.000000</td>\n",
              "      <td>12330.000000</td>\n",
              "      <td>12330.000000</td>\n",
              "      <td>12330.000000</td>\n",
              "      <td>12330.000000</td>\n",
              "      <td>12330.000000</td>\n",
              "      <td>12330.000000</td>\n",
              "      <td>12330.000000</td>\n",
              "      <td>12330.000000</td>\n",
              "      <td>12330.000000</td>\n",
              "      <td>12330.000000</td>\n",
              "      <td>12330.000000</td>\n",
              "      <td>12330.000000</td>\n",
              "    </tr>\n",
              "    <tr>\n",
              "      <th>mean</th>\n",
              "      <td>2.315166</td>\n",
              "      <td>80.818611</td>\n",
              "      <td>0.503569</td>\n",
              "      <td>34.472398</td>\n",
              "      <td>31.731468</td>\n",
              "      <td>1194.746220</td>\n",
              "      <td>0.022191</td>\n",
              "      <td>0.043073</td>\n",
              "      <td>5.889258</td>\n",
              "      <td>0.061427</td>\n",
              "      <td>2.124006</td>\n",
              "      <td>2.357097</td>\n",
              "      <td>3.147364</td>\n",
              "      <td>4.069586</td>\n",
              "    </tr>\n",
              "    <tr>\n",
              "      <th>std</th>\n",
              "      <td>3.321784</td>\n",
              "      <td>176.779107</td>\n",
              "      <td>1.270156</td>\n",
              "      <td>140.749294</td>\n",
              "      <td>44.475503</td>\n",
              "      <td>1913.669288</td>\n",
              "      <td>0.048488</td>\n",
              "      <td>0.048597</td>\n",
              "      <td>18.568437</td>\n",
              "      <td>0.198917</td>\n",
              "      <td>0.911325</td>\n",
              "      <td>1.717277</td>\n",
              "      <td>2.401591</td>\n",
              "      <td>4.025169</td>\n",
              "    </tr>\n",
              "    <tr>\n",
              "      <th>min</th>\n",
              "      <td>0.000000</td>\n",
              "      <td>0.000000</td>\n",
              "      <td>0.000000</td>\n",
              "      <td>0.000000</td>\n",
              "      <td>0.000000</td>\n",
              "      <td>0.000000</td>\n",
              "      <td>0.000000</td>\n",
              "      <td>0.000000</td>\n",
              "      <td>0.000000</td>\n",
              "      <td>0.000000</td>\n",
              "      <td>1.000000</td>\n",
              "      <td>1.000000</td>\n",
              "      <td>1.000000</td>\n",
              "      <td>1.000000</td>\n",
              "    </tr>\n",
              "    <tr>\n",
              "      <th>25%</th>\n",
              "      <td>0.000000</td>\n",
              "      <td>0.000000</td>\n",
              "      <td>0.000000</td>\n",
              "      <td>0.000000</td>\n",
              "      <td>7.000000</td>\n",
              "      <td>184.137500</td>\n",
              "      <td>0.000000</td>\n",
              "      <td>0.014286</td>\n",
              "      <td>0.000000</td>\n",
              "      <td>0.000000</td>\n",
              "      <td>2.000000</td>\n",
              "      <td>2.000000</td>\n",
              "      <td>1.000000</td>\n",
              "      <td>2.000000</td>\n",
              "    </tr>\n",
              "    <tr>\n",
              "      <th>50%</th>\n",
              "      <td>1.000000</td>\n",
              "      <td>7.500000</td>\n",
              "      <td>0.000000</td>\n",
              "      <td>0.000000</td>\n",
              "      <td>18.000000</td>\n",
              "      <td>598.936905</td>\n",
              "      <td>0.003112</td>\n",
              "      <td>0.025156</td>\n",
              "      <td>0.000000</td>\n",
              "      <td>0.000000</td>\n",
              "      <td>2.000000</td>\n",
              "      <td>2.000000</td>\n",
              "      <td>3.000000</td>\n",
              "      <td>2.000000</td>\n",
              "    </tr>\n",
              "    <tr>\n",
              "      <th>75%</th>\n",
              "      <td>4.000000</td>\n",
              "      <td>93.256250</td>\n",
              "      <td>0.000000</td>\n",
              "      <td>0.000000</td>\n",
              "      <td>38.000000</td>\n",
              "      <td>1464.157213</td>\n",
              "      <td>0.016813</td>\n",
              "      <td>0.050000</td>\n",
              "      <td>0.000000</td>\n",
              "      <td>0.000000</td>\n",
              "      <td>3.000000</td>\n",
              "      <td>2.000000</td>\n",
              "      <td>4.000000</td>\n",
              "      <td>4.000000</td>\n",
              "    </tr>\n",
              "    <tr>\n",
              "      <th>max</th>\n",
              "      <td>27.000000</td>\n",
              "      <td>3398.750000</td>\n",
              "      <td>24.000000</td>\n",
              "      <td>2549.375000</td>\n",
              "      <td>705.000000</td>\n",
              "      <td>63973.522230</td>\n",
              "      <td>0.200000</td>\n",
              "      <td>0.200000</td>\n",
              "      <td>361.763742</td>\n",
              "      <td>1.000000</td>\n",
              "      <td>8.000000</td>\n",
              "      <td>13.000000</td>\n",
              "      <td>9.000000</td>\n",
              "      <td>20.000000</td>\n",
              "    </tr>\n",
              "  </tbody>\n",
              "</table>\n",
              "</div>"
            ],
            "text/plain": [
              "       Administrative  Administrative_Duration  ...        Region   TrafficType\n",
              "count    12330.000000             12330.000000  ...  12330.000000  12330.000000\n",
              "mean         2.315166                80.818611  ...      3.147364      4.069586\n",
              "std          3.321784               176.779107  ...      2.401591      4.025169\n",
              "min          0.000000                 0.000000  ...      1.000000      1.000000\n",
              "25%          0.000000                 0.000000  ...      1.000000      2.000000\n",
              "50%          1.000000                 7.500000  ...      3.000000      2.000000\n",
              "75%          4.000000                93.256250  ...      4.000000      4.000000\n",
              "max         27.000000              3398.750000  ...      9.000000     20.000000\n",
              "\n",
              "[8 rows x 14 columns]"
            ]
          },
          "metadata": {
            "tags": []
          },
          "execution_count": 7
        }
      ]
    },
    {
      "cell_type": "code",
      "metadata": {
        "colab": {
          "base_uri": "https://localhost:8080/",
          "height": 173
        },
        "id": "r0jCAx1AhOoQ",
        "outputId": "831e60d9-2066-48b6-fe19-9d6f8bd8f2a2"
      },
      "source": [
        "#categorical columns\n",
        "dataset.describe(include='O')"
      ],
      "execution_count": 8,
      "outputs": [
        {
          "output_type": "execute_result",
          "data": {
            "text/html": [
              "<div>\n",
              "<style scoped>\n",
              "    .dataframe tbody tr th:only-of-type {\n",
              "        vertical-align: middle;\n",
              "    }\n",
              "\n",
              "    .dataframe tbody tr th {\n",
              "        vertical-align: top;\n",
              "    }\n",
              "\n",
              "    .dataframe thead th {\n",
              "        text-align: right;\n",
              "    }\n",
              "</style>\n",
              "<table border=\"1\" class=\"dataframe\">\n",
              "  <thead>\n",
              "    <tr style=\"text-align: right;\">\n",
              "      <th></th>\n",
              "      <th>Month</th>\n",
              "      <th>VisitorType</th>\n",
              "    </tr>\n",
              "  </thead>\n",
              "  <tbody>\n",
              "    <tr>\n",
              "      <th>count</th>\n",
              "      <td>12330</td>\n",
              "      <td>12330</td>\n",
              "    </tr>\n",
              "    <tr>\n",
              "      <th>unique</th>\n",
              "      <td>10</td>\n",
              "      <td>3</td>\n",
              "    </tr>\n",
              "    <tr>\n",
              "      <th>top</th>\n",
              "      <td>May</td>\n",
              "      <td>Returning_Visitor</td>\n",
              "    </tr>\n",
              "    <tr>\n",
              "      <th>freq</th>\n",
              "      <td>3364</td>\n",
              "      <td>10551</td>\n",
              "    </tr>\n",
              "  </tbody>\n",
              "</table>\n",
              "</div>"
            ],
            "text/plain": [
              "        Month        VisitorType\n",
              "count   12330              12330\n",
              "unique     10                  3\n",
              "top       May  Returning_Visitor\n",
              "freq     3364              10551"
            ]
          },
          "metadata": {
            "tags": []
          },
          "execution_count": 8
        }
      ]
    },
    {
      "cell_type": "markdown",
      "metadata": {
        "id": "QBkdDZFvnfXI"
      },
      "source": [
        "See unique values of categorical columns"
      ]
    },
    {
      "cell_type": "code",
      "metadata": {
        "colab": {
          "base_uri": "https://localhost:8080/"
        },
        "id": "qVOwXtdUjHZT",
        "outputId": "62545ca9-bab7-40eb-aeac-5aa6a40abcd8"
      },
      "source": [
        "print(\"Month unique values\\t\\t\\t\", dataset['Month'].unique())\n",
        "print(\"Visitor Type unique values\\t\\t\", dataset['VisitorType'].unique())\n",
        "print(\"Operating Systems unique values\\t\", dataset['OperatingSystems'].unique())\n",
        "print(\"Browser unique values\\t\\t\\t\", dataset['Browser'].unique())\n",
        "print(\"Region unique values\\t\\t\\t\", dataset['Region'].unique())\n",
        "print(\"Traffic Type unique values\\t\\t\", dataset['TrafficType'].unique())\n",
        "print(\"Special Day unique values\\t\\t\", dataset['SpecialDay'].unique())"
      ],
      "execution_count": 67,
      "outputs": [
        {
          "output_type": "stream",
          "text": [
            "Month unique values\t\t\t ['Feb' 'Mar' 'May' 'Oct' 'June' 'Jul' 'Aug' 'Nov' 'Sep' 'Dec']\n",
            "Visitor Type unique values\t\t ['Returning_Visitor' 'New_Visitor' 'Other']\n",
            "Operating Systems unique values\t [1 2 4 3 7 6 8 5]\n",
            "Browser unique values\t\t\t [ 1  2  3  4  5  6  7 10  8  9 12 13 11]\n",
            "Region unique values\t\t\t [1 9 2 3 4 5 6 7 8]\n",
            "Traffic Type unique values\t\t [ 1  2  3  4  5  6  7  8  9 10 11 12 13 14 15 18 19 16 17 20]\n",
            "Special Day unique values\t\t [0.  0.4 0.8 1.  0.2 0.6]\n"
          ],
          "name": "stdout"
        }
      ]
    },
    {
      "cell_type": "markdown",
      "metadata": {
        "id": "i4m4v03psL-X"
      },
      "source": [
        "See columns correlation"
      ]
    },
    {
      "cell_type": "code",
      "metadata": {
        "colab": {
          "base_uri": "https://localhost:8080/",
          "height": 565
        },
        "id": "aS8Ry83piv4d",
        "outputId": "4710215f-ea7d-4097-8915-2a78aaab8376"
      },
      "source": [
        "dataset.corr()"
      ],
      "execution_count": 23,
      "outputs": [
        {
          "output_type": "execute_result",
          "data": {
            "text/html": [
              "<div>\n",
              "<style scoped>\n",
              "    .dataframe tbody tr th:only-of-type {\n",
              "        vertical-align: middle;\n",
              "    }\n",
              "\n",
              "    .dataframe tbody tr th {\n",
              "        vertical-align: top;\n",
              "    }\n",
              "\n",
              "    .dataframe thead th {\n",
              "        text-align: right;\n",
              "    }\n",
              "</style>\n",
              "<table border=\"1\" class=\"dataframe\">\n",
              "  <thead>\n",
              "    <tr style=\"text-align: right;\">\n",
              "      <th></th>\n",
              "      <th>Administrative</th>\n",
              "      <th>Administrative_Duration</th>\n",
              "      <th>Informational</th>\n",
              "      <th>Informational_Duration</th>\n",
              "      <th>ProductRelated</th>\n",
              "      <th>ProductRelated_Duration</th>\n",
              "      <th>BounceRates</th>\n",
              "      <th>ExitRates</th>\n",
              "      <th>PageValues</th>\n",
              "      <th>SpecialDay</th>\n",
              "      <th>OperatingSystems</th>\n",
              "      <th>Browser</th>\n",
              "      <th>Region</th>\n",
              "      <th>TrafficType</th>\n",
              "      <th>Weekend</th>\n",
              "      <th>Revenue</th>\n",
              "    </tr>\n",
              "  </thead>\n",
              "  <tbody>\n",
              "    <tr>\n",
              "      <th>Administrative</th>\n",
              "      <td>1.000000</td>\n",
              "      <td>0.601583</td>\n",
              "      <td>0.376850</td>\n",
              "      <td>0.255848</td>\n",
              "      <td>0.431119</td>\n",
              "      <td>0.373939</td>\n",
              "      <td>-0.223563</td>\n",
              "      <td>-0.316483</td>\n",
              "      <td>0.098990</td>\n",
              "      <td>-0.094778</td>\n",
              "      <td>-0.006347</td>\n",
              "      <td>-0.025035</td>\n",
              "      <td>-0.005487</td>\n",
              "      <td>-0.033561</td>\n",
              "      <td>0.026417</td>\n",
              "      <td>0.138917</td>\n",
              "    </tr>\n",
              "    <tr>\n",
              "      <th>Administrative_Duration</th>\n",
              "      <td>0.601583</td>\n",
              "      <td>1.000000</td>\n",
              "      <td>0.302710</td>\n",
              "      <td>0.238031</td>\n",
              "      <td>0.289087</td>\n",
              "      <td>0.355422</td>\n",
              "      <td>-0.144170</td>\n",
              "      <td>-0.205798</td>\n",
              "      <td>0.067608</td>\n",
              "      <td>-0.073304</td>\n",
              "      <td>-0.007343</td>\n",
              "      <td>-0.015392</td>\n",
              "      <td>-0.005561</td>\n",
              "      <td>-0.014376</td>\n",
              "      <td>0.014990</td>\n",
              "      <td>0.093587</td>\n",
              "    </tr>\n",
              "    <tr>\n",
              "      <th>Informational</th>\n",
              "      <td>0.376850</td>\n",
              "      <td>0.302710</td>\n",
              "      <td>1.000000</td>\n",
              "      <td>0.618955</td>\n",
              "      <td>0.374164</td>\n",
              "      <td>0.387505</td>\n",
              "      <td>-0.116114</td>\n",
              "      <td>-0.163666</td>\n",
              "      <td>0.048632</td>\n",
              "      <td>-0.048219</td>\n",
              "      <td>-0.009527</td>\n",
              "      <td>-0.038235</td>\n",
              "      <td>-0.029169</td>\n",
              "      <td>-0.034491</td>\n",
              "      <td>0.035785</td>\n",
              "      <td>0.095200</td>\n",
              "    </tr>\n",
              "    <tr>\n",
              "      <th>Informational_Duration</th>\n",
              "      <td>0.255848</td>\n",
              "      <td>0.238031</td>\n",
              "      <td>0.618955</td>\n",
              "      <td>1.000000</td>\n",
              "      <td>0.280046</td>\n",
              "      <td>0.347364</td>\n",
              "      <td>-0.074067</td>\n",
              "      <td>-0.105276</td>\n",
              "      <td>0.030861</td>\n",
              "      <td>-0.030577</td>\n",
              "      <td>-0.009579</td>\n",
              "      <td>-0.019285</td>\n",
              "      <td>-0.027144</td>\n",
              "      <td>-0.024675</td>\n",
              "      <td>0.024078</td>\n",
              "      <td>0.070345</td>\n",
              "    </tr>\n",
              "    <tr>\n",
              "      <th>ProductRelated</th>\n",
              "      <td>0.431119</td>\n",
              "      <td>0.289087</td>\n",
              "      <td>0.374164</td>\n",
              "      <td>0.280046</td>\n",
              "      <td>1.000000</td>\n",
              "      <td>0.860927</td>\n",
              "      <td>-0.204578</td>\n",
              "      <td>-0.292526</td>\n",
              "      <td>0.056282</td>\n",
              "      <td>-0.023958</td>\n",
              "      <td>0.004290</td>\n",
              "      <td>-0.013146</td>\n",
              "      <td>-0.038122</td>\n",
              "      <td>-0.043064</td>\n",
              "      <td>0.016092</td>\n",
              "      <td>0.158538</td>\n",
              "    </tr>\n",
              "    <tr>\n",
              "      <th>ProductRelated_Duration</th>\n",
              "      <td>0.373939</td>\n",
              "      <td>0.355422</td>\n",
              "      <td>0.387505</td>\n",
              "      <td>0.347364</td>\n",
              "      <td>0.860927</td>\n",
              "      <td>1.000000</td>\n",
              "      <td>-0.184541</td>\n",
              "      <td>-0.251984</td>\n",
              "      <td>0.052823</td>\n",
              "      <td>-0.036380</td>\n",
              "      <td>0.002976</td>\n",
              "      <td>-0.007380</td>\n",
              "      <td>-0.033091</td>\n",
              "      <td>-0.036377</td>\n",
              "      <td>0.007311</td>\n",
              "      <td>0.152373</td>\n",
              "    </tr>\n",
              "    <tr>\n",
              "      <th>BounceRates</th>\n",
              "      <td>-0.223563</td>\n",
              "      <td>-0.144170</td>\n",
              "      <td>-0.116114</td>\n",
              "      <td>-0.074067</td>\n",
              "      <td>-0.204578</td>\n",
              "      <td>-0.184541</td>\n",
              "      <td>1.000000</td>\n",
              "      <td>0.913004</td>\n",
              "      <td>-0.119386</td>\n",
              "      <td>0.072702</td>\n",
              "      <td>0.023823</td>\n",
              "      <td>-0.015772</td>\n",
              "      <td>-0.006485</td>\n",
              "      <td>0.078286</td>\n",
              "      <td>-0.046514</td>\n",
              "      <td>-0.150673</td>\n",
              "    </tr>\n",
              "    <tr>\n",
              "      <th>ExitRates</th>\n",
              "      <td>-0.316483</td>\n",
              "      <td>-0.205798</td>\n",
              "      <td>-0.163666</td>\n",
              "      <td>-0.105276</td>\n",
              "      <td>-0.292526</td>\n",
              "      <td>-0.251984</td>\n",
              "      <td>0.913004</td>\n",
              "      <td>1.000000</td>\n",
              "      <td>-0.174498</td>\n",
              "      <td>0.102242</td>\n",
              "      <td>0.014567</td>\n",
              "      <td>-0.004442</td>\n",
              "      <td>-0.008907</td>\n",
              "      <td>0.078616</td>\n",
              "      <td>-0.062587</td>\n",
              "      <td>-0.207071</td>\n",
              "    </tr>\n",
              "    <tr>\n",
              "      <th>PageValues</th>\n",
              "      <td>0.098990</td>\n",
              "      <td>0.067608</td>\n",
              "      <td>0.048632</td>\n",
              "      <td>0.030861</td>\n",
              "      <td>0.056282</td>\n",
              "      <td>0.052823</td>\n",
              "      <td>-0.119386</td>\n",
              "      <td>-0.174498</td>\n",
              "      <td>1.000000</td>\n",
              "      <td>-0.063541</td>\n",
              "      <td>0.018508</td>\n",
              "      <td>0.045592</td>\n",
              "      <td>0.011315</td>\n",
              "      <td>0.012532</td>\n",
              "      <td>0.012002</td>\n",
              "      <td>0.492569</td>\n",
              "    </tr>\n",
              "    <tr>\n",
              "      <th>SpecialDay</th>\n",
              "      <td>-0.094778</td>\n",
              "      <td>-0.073304</td>\n",
              "      <td>-0.048219</td>\n",
              "      <td>-0.030577</td>\n",
              "      <td>-0.023958</td>\n",
              "      <td>-0.036380</td>\n",
              "      <td>0.072702</td>\n",
              "      <td>0.102242</td>\n",
              "      <td>-0.063541</td>\n",
              "      <td>1.000000</td>\n",
              "      <td>0.012652</td>\n",
              "      <td>0.003499</td>\n",
              "      <td>-0.016098</td>\n",
              "      <td>0.052301</td>\n",
              "      <td>-0.016767</td>\n",
              "      <td>-0.082305</td>\n",
              "    </tr>\n",
              "    <tr>\n",
              "      <th>OperatingSystems</th>\n",
              "      <td>-0.006347</td>\n",
              "      <td>-0.007343</td>\n",
              "      <td>-0.009527</td>\n",
              "      <td>-0.009579</td>\n",
              "      <td>0.004290</td>\n",
              "      <td>0.002976</td>\n",
              "      <td>0.023823</td>\n",
              "      <td>0.014567</td>\n",
              "      <td>0.018508</td>\n",
              "      <td>0.012652</td>\n",
              "      <td>1.000000</td>\n",
              "      <td>0.223013</td>\n",
              "      <td>0.076775</td>\n",
              "      <td>0.189154</td>\n",
              "      <td>0.000284</td>\n",
              "      <td>-0.014668</td>\n",
              "    </tr>\n",
              "    <tr>\n",
              "      <th>Browser</th>\n",
              "      <td>-0.025035</td>\n",
              "      <td>-0.015392</td>\n",
              "      <td>-0.038235</td>\n",
              "      <td>-0.019285</td>\n",
              "      <td>-0.013146</td>\n",
              "      <td>-0.007380</td>\n",
              "      <td>-0.015772</td>\n",
              "      <td>-0.004442</td>\n",
              "      <td>0.045592</td>\n",
              "      <td>0.003499</td>\n",
              "      <td>0.223013</td>\n",
              "      <td>1.000000</td>\n",
              "      <td>0.097393</td>\n",
              "      <td>0.111938</td>\n",
              "      <td>-0.040261</td>\n",
              "      <td>0.023984</td>\n",
              "    </tr>\n",
              "    <tr>\n",
              "      <th>Region</th>\n",
              "      <td>-0.005487</td>\n",
              "      <td>-0.005561</td>\n",
              "      <td>-0.029169</td>\n",
              "      <td>-0.027144</td>\n",
              "      <td>-0.038122</td>\n",
              "      <td>-0.033091</td>\n",
              "      <td>-0.006485</td>\n",
              "      <td>-0.008907</td>\n",
              "      <td>0.011315</td>\n",
              "      <td>-0.016098</td>\n",
              "      <td>0.076775</td>\n",
              "      <td>0.097393</td>\n",
              "      <td>1.000000</td>\n",
              "      <td>0.047520</td>\n",
              "      <td>-0.000691</td>\n",
              "      <td>-0.011595</td>\n",
              "    </tr>\n",
              "    <tr>\n",
              "      <th>TrafficType</th>\n",
              "      <td>-0.033561</td>\n",
              "      <td>-0.014376</td>\n",
              "      <td>-0.034491</td>\n",
              "      <td>-0.024675</td>\n",
              "      <td>-0.043064</td>\n",
              "      <td>-0.036377</td>\n",
              "      <td>0.078286</td>\n",
              "      <td>0.078616</td>\n",
              "      <td>0.012532</td>\n",
              "      <td>0.052301</td>\n",
              "      <td>0.189154</td>\n",
              "      <td>0.111938</td>\n",
              "      <td>0.047520</td>\n",
              "      <td>1.000000</td>\n",
              "      <td>-0.002221</td>\n",
              "      <td>-0.005113</td>\n",
              "    </tr>\n",
              "    <tr>\n",
              "      <th>Weekend</th>\n",
              "      <td>0.026417</td>\n",
              "      <td>0.014990</td>\n",
              "      <td>0.035785</td>\n",
              "      <td>0.024078</td>\n",
              "      <td>0.016092</td>\n",
              "      <td>0.007311</td>\n",
              "      <td>-0.046514</td>\n",
              "      <td>-0.062587</td>\n",
              "      <td>0.012002</td>\n",
              "      <td>-0.016767</td>\n",
              "      <td>0.000284</td>\n",
              "      <td>-0.040261</td>\n",
              "      <td>-0.000691</td>\n",
              "      <td>-0.002221</td>\n",
              "      <td>1.000000</td>\n",
              "      <td>0.029295</td>\n",
              "    </tr>\n",
              "    <tr>\n",
              "      <th>Revenue</th>\n",
              "      <td>0.138917</td>\n",
              "      <td>0.093587</td>\n",
              "      <td>0.095200</td>\n",
              "      <td>0.070345</td>\n",
              "      <td>0.158538</td>\n",
              "      <td>0.152373</td>\n",
              "      <td>-0.150673</td>\n",
              "      <td>-0.207071</td>\n",
              "      <td>0.492569</td>\n",
              "      <td>-0.082305</td>\n",
              "      <td>-0.014668</td>\n",
              "      <td>0.023984</td>\n",
              "      <td>-0.011595</td>\n",
              "      <td>-0.005113</td>\n",
              "      <td>0.029295</td>\n",
              "      <td>1.000000</td>\n",
              "    </tr>\n",
              "  </tbody>\n",
              "</table>\n",
              "</div>"
            ],
            "text/plain": [
              "                         Administrative  ...   Revenue\n",
              "Administrative                 1.000000  ...  0.138917\n",
              "Administrative_Duration        0.601583  ...  0.093587\n",
              "Informational                  0.376850  ...  0.095200\n",
              "Informational_Duration         0.255848  ...  0.070345\n",
              "ProductRelated                 0.431119  ...  0.158538\n",
              "ProductRelated_Duration        0.373939  ...  0.152373\n",
              "BounceRates                   -0.223563  ... -0.150673\n",
              "ExitRates                     -0.316483  ... -0.207071\n",
              "PageValues                     0.098990  ...  0.492569\n",
              "SpecialDay                    -0.094778  ... -0.082305\n",
              "OperatingSystems              -0.006347  ... -0.014668\n",
              "Browser                       -0.025035  ...  0.023984\n",
              "Region                        -0.005487  ... -0.011595\n",
              "TrafficType                   -0.033561  ... -0.005113\n",
              "Weekend                        0.026417  ...  0.029295\n",
              "Revenue                        0.138917  ...  1.000000\n",
              "\n",
              "[16 rows x 16 columns]"
            ]
          },
          "metadata": {
            "tags": []
          },
          "execution_count": 23
        }
      ]
    },
    {
      "cell_type": "code",
      "metadata": {
        "colab": {
          "base_uri": "https://localhost:8080/",
          "height": 396
        },
        "id": "whoYYd5jodTa",
        "outputId": "544388fe-6e8d-4f62-d61f-e40a1640811e"
      },
      "source": [
        "#visualization of dataframe correlation\n",
        "dataset.corr().style.format(\"{:.2}\").background_gradient(cmap=plt.get_cmap('coolwarm'), axis=1)"
      ],
      "execution_count": 19,
      "outputs": [
        {
          "output_type": "execute_result",
          "data": {
            "text/html": [
              "<style  type=\"text/css\" >\n",
              "#T_a692cfa2_f5a8_11eb_aee4_0242ac1c0002row0_col0,#T_a692cfa2_f5a8_11eb_aee4_0242ac1c0002row1_col1,#T_a692cfa2_f5a8_11eb_aee4_0242ac1c0002row2_col2,#T_a692cfa2_f5a8_11eb_aee4_0242ac1c0002row3_col3,#T_a692cfa2_f5a8_11eb_aee4_0242ac1c0002row4_col4,#T_a692cfa2_f5a8_11eb_aee4_0242ac1c0002row5_col5,#T_a692cfa2_f5a8_11eb_aee4_0242ac1c0002row6_col6,#T_a692cfa2_f5a8_11eb_aee4_0242ac1c0002row7_col7,#T_a692cfa2_f5a8_11eb_aee4_0242ac1c0002row8_col8,#T_a692cfa2_f5a8_11eb_aee4_0242ac1c0002row9_col9,#T_a692cfa2_f5a8_11eb_aee4_0242ac1c0002row10_col10,#T_a692cfa2_f5a8_11eb_aee4_0242ac1c0002row11_col11,#T_a692cfa2_f5a8_11eb_aee4_0242ac1c0002row12_col12,#T_a692cfa2_f5a8_11eb_aee4_0242ac1c0002row13_col13,#T_a692cfa2_f5a8_11eb_aee4_0242ac1c0002row14_col14,#T_a692cfa2_f5a8_11eb_aee4_0242ac1c0002row15_col15{\n",
              "            background-color:  #b40426;\n",
              "            color:  #f1f1f1;\n",
              "        }#T_a692cfa2_f5a8_11eb_aee4_0242ac1c0002row0_col1{\n",
              "            background-color:  #f7ad90;\n",
              "            color:  #000000;\n",
              "        }#T_a692cfa2_f5a8_11eb_aee4_0242ac1c0002row0_col2,#T_a692cfa2_f5a8_11eb_aee4_0242ac1c0002row0_col5{\n",
              "            background-color:  #e3d9d3;\n",
              "            color:  #000000;\n",
              "        }#T_a692cfa2_f5a8_11eb_aee4_0242ac1c0002row0_col3{\n",
              "            background-color:  #cbd8ee;\n",
              "            color:  #000000;\n",
              "        }#T_a692cfa2_f5a8_11eb_aee4_0242ac1c0002row0_col4,#T_a692cfa2_f5a8_11eb_aee4_0242ac1c0002row8_col15{\n",
              "            background-color:  #edd2c3;\n",
              "            color:  #000000;\n",
              "        }#T_a692cfa2_f5a8_11eb_aee4_0242ac1c0002row0_col6,#T_a692cfa2_f5a8_11eb_aee4_0242ac1c0002row3_col12,#T_a692cfa2_f5a8_11eb_aee4_0242ac1c0002row3_col13,#T_a692cfa2_f5a8_11eb_aee4_0242ac1c0002row9_col12,#T_a692cfa2_f5a8_11eb_aee4_0242ac1c0002row9_col14,#T_a692cfa2_f5a8_11eb_aee4_0242ac1c0002row14_col1,#T_a692cfa2_f5a8_11eb_aee4_0242ac1c0002row14_col4{\n",
              "            background-color:  #506bda;\n",
              "            color:  #000000;\n",
              "        }#T_a692cfa2_f5a8_11eb_aee4_0242ac1c0002row0_col7,#T_a692cfa2_f5a8_11eb_aee4_0242ac1c0002row1_col7,#T_a692cfa2_f5a8_11eb_aee4_0242ac1c0002row2_col7,#T_a692cfa2_f5a8_11eb_aee4_0242ac1c0002row3_col7,#T_a692cfa2_f5a8_11eb_aee4_0242ac1c0002row4_col7,#T_a692cfa2_f5a8_11eb_aee4_0242ac1c0002row5_col7,#T_a692cfa2_f5a8_11eb_aee4_0242ac1c0002row6_col0,#T_a692cfa2_f5a8_11eb_aee4_0242ac1c0002row7_col0,#T_a692cfa2_f5a8_11eb_aee4_0242ac1c0002row8_col7,#T_a692cfa2_f5a8_11eb_aee4_0242ac1c0002row9_col0,#T_a692cfa2_f5a8_11eb_aee4_0242ac1c0002row10_col15,#T_a692cfa2_f5a8_11eb_aee4_0242ac1c0002row11_col2,#T_a692cfa2_f5a8_11eb_aee4_0242ac1c0002row11_col14,#T_a692cfa2_f5a8_11eb_aee4_0242ac1c0002row12_col4,#T_a692cfa2_f5a8_11eb_aee4_0242ac1c0002row13_col4,#T_a692cfa2_f5a8_11eb_aee4_0242ac1c0002row14_col7,#T_a692cfa2_f5a8_11eb_aee4_0242ac1c0002row15_col7{\n",
              "            background-color:  #3b4cc0;\n",
              "            color:  #f1f1f1;\n",
              "        }#T_a692cfa2_f5a8_11eb_aee4_0242ac1c0002row0_col8{\n",
              "            background-color:  #a3c2fe;\n",
              "            color:  #000000;\n",
              "        }#T_a692cfa2_f5a8_11eb_aee4_0242ac1c0002row0_col9,#T_a692cfa2_f5a8_11eb_aee4_0242ac1c0002row2_col14,#T_a692cfa2_f5a8_11eb_aee4_0242ac1c0002row6_col11{\n",
              "            background-color:  #7093f3;\n",
              "            color:  #000000;\n",
              "        }#T_a692cfa2_f5a8_11eb_aee4_0242ac1c0002row0_col10,#T_a692cfa2_f5a8_11eb_aee4_0242ac1c0002row0_col12,#T_a692cfa2_f5a8_11eb_aee4_0242ac1c0002row7_col11{\n",
              "            background-color:  #88abfd;\n",
              "            color:  #000000;\n",
              "        }#T_a692cfa2_f5a8_11eb_aee4_0242ac1c0002row0_col11,#T_a692cfa2_f5a8_11eb_aee4_0242ac1c0002row2_col15,#T_a692cfa2_f5a8_11eb_aee4_0242ac1c0002row13_col10{\n",
              "            background-color:  #82a6fb;\n",
              "            color:  #000000;\n",
              "        }#T_a692cfa2_f5a8_11eb_aee4_0242ac1c0002row0_col13,#T_a692cfa2_f5a8_11eb_aee4_0242ac1c0002row4_col11{\n",
              "            background-color:  #81a4fb;\n",
              "            color:  #000000;\n",
              "        }#T_a692cfa2_f5a8_11eb_aee4_0242ac1c0002row0_col14{\n",
              "            background-color:  #90b2fe;\n",
              "            color:  #000000;\n",
              "        }#T_a692cfa2_f5a8_11eb_aee4_0242ac1c0002row0_col15{\n",
              "            background-color:  #aec9fc;\n",
              "            color:  #000000;\n",
              "        }#T_a692cfa2_f5a8_11eb_aee4_0242ac1c0002row1_col0{\n",
              "            background-color:  #f7b79b;\n",
              "            color:  #000000;\n",
              "        }#T_a692cfa2_f5a8_11eb_aee4_0242ac1c0002row1_col2{\n",
              "            background-color:  #c6d6f1;\n",
              "            color:  #000000;\n",
              "        }#T_a692cfa2_f5a8_11eb_aee4_0242ac1c0002row1_col3{\n",
              "            background-color:  #b6cefa;\n",
              "            color:  #000000;\n",
              "        }#T_a692cfa2_f5a8_11eb_aee4_0242ac1c0002row1_col4{\n",
              "            background-color:  #c4d5f3;\n",
              "            color:  #000000;\n",
              "        }#T_a692cfa2_f5a8_11eb_aee4_0242ac1c0002row1_col5{\n",
              "            background-color:  #d4dbe6;\n",
              "            color:  #000000;\n",
              "        }#T_a692cfa2_f5a8_11eb_aee4_0242ac1c0002row1_col6,#T_a692cfa2_f5a8_11eb_aee4_0242ac1c0002row5_col6,#T_a692cfa2_f5a8_11eb_aee4_0242ac1c0002row9_col5,#T_a692cfa2_f5a8_11eb_aee4_0242ac1c0002row13_col8{\n",
              "            background-color:  #4a63d3;\n",
              "            color:  #f1f1f1;\n",
              "        }#T_a692cfa2_f5a8_11eb_aee4_0242ac1c0002row1_col8,#T_a692cfa2_f5a8_11eb_aee4_0242ac1c0002row4_col10,#T_a692cfa2_f5a8_11eb_aee4_0242ac1c0002row15_col3{\n",
              "            background-color:  #85a8fc;\n",
              "            color:  #000000;\n",
              "        }#T_a692cfa2_f5a8_11eb_aee4_0242ac1c0002row1_col9,#T_a692cfa2_f5a8_11eb_aee4_0242ac1c0002row2_col13,#T_a692cfa2_f5a8_11eb_aee4_0242ac1c0002row12_col10{\n",
              "            background-color:  #5d7ce6;\n",
              "            color:  #000000;\n",
              "        }#T_a692cfa2_f5a8_11eb_aee4_0242ac1c0002row1_col10,#T_a692cfa2_f5a8_11eb_aee4_0242ac1c0002row1_col12,#T_a692cfa2_f5a8_11eb_aee4_0242ac1c0002row8_col10,#T_a692cfa2_f5a8_11eb_aee4_0242ac1c0002row15_col13{\n",
              "            background-color:  #6f92f3;\n",
              "            color:  #000000;\n",
              "        }#T_a692cfa2_f5a8_11eb_aee4_0242ac1c0002row1_col11,#T_a692cfa2_f5a8_11eb_aee4_0242ac1c0002row1_col13,#T_a692cfa2_f5a8_11eb_aee4_0242ac1c0002row3_col15,#T_a692cfa2_f5a8_11eb_aee4_0242ac1c0002row8_col12,#T_a692cfa2_f5a8_11eb_aee4_0242ac1c0002row8_col13,#T_a692cfa2_f5a8_11eb_aee4_0242ac1c0002row8_col14,#T_a692cfa2_f5a8_11eb_aee4_0242ac1c0002row15_col10{\n",
              "            background-color:  #6c8ff1;\n",
              "            color:  #000000;\n",
              "        }#T_a692cfa2_f5a8_11eb_aee4_0242ac1c0002row1_col14,#T_a692cfa2_f5a8_11eb_aee4_0242ac1c0002row2_col8,#T_a692cfa2_f5a8_11eb_aee4_0242ac1c0002row9_col7{\n",
              "            background-color:  #7597f6;\n",
              "            color:  #000000;\n",
              "        }#T_a692cfa2_f5a8_11eb_aee4_0242ac1c0002row1_col15,#T_a692cfa2_f5a8_11eb_aee4_0242ac1c0002row6_col13,#T_a692cfa2_f5a8_11eb_aee4_0242ac1c0002row15_col1{\n",
              "            background-color:  #8caffe;\n",
              "            color:  #000000;\n",
              "        }#T_a692cfa2_f5a8_11eb_aee4_0242ac1c0002row2_col0,#T_a692cfa2_f5a8_11eb_aee4_0242ac1c0002row2_col4{\n",
              "            background-color:  #d3dbe7;\n",
              "            color:  #000000;\n",
              "        }#T_a692cfa2_f5a8_11eb_aee4_0242ac1c0002row2_col1{\n",
              "            background-color:  #c0d4f5;\n",
              "            color:  #000000;\n",
              "        }#T_a692cfa2_f5a8_11eb_aee4_0242ac1c0002row2_col3{\n",
              "            background-color:  #f7b599;\n",
              "            color:  #000000;\n",
              "        }#T_a692cfa2_f5a8_11eb_aee4_0242ac1c0002row2_col5{\n",
              "            background-color:  #d6dce4;\n",
              "            color:  #000000;\n",
              "        }#T_a692cfa2_f5a8_11eb_aee4_0242ac1c0002row2_col6,#T_a692cfa2_f5a8_11eb_aee4_0242ac1c0002row9_col2,#T_a692cfa2_f5a8_11eb_aee4_0242ac1c0002row11_col9,#T_a692cfa2_f5a8_11eb_aee4_0242ac1c0002row13_col14{\n",
              "            background-color:  #465ecf;\n",
              "            color:  #f1f1f1;\n",
              "        }#T_a692cfa2_f5a8_11eb_aee4_0242ac1c0002row2_col9,#T_a692cfa2_f5a8_11eb_aee4_0242ac1c0002row9_col10{\n",
              "            background-color:  #5977e3;\n",
              "            color:  #000000;\n",
              "        }#T_a692cfa2_f5a8_11eb_aee4_0242ac1c0002row2_col10,#T_a692cfa2_f5a8_11eb_aee4_0242ac1c0002row11_col12,#T_a692cfa2_f5a8_11eb_aee4_0242ac1c0002row12_col11{\n",
              "            background-color:  #6384eb;\n",
              "            color:  #000000;\n",
              "        }#T_a692cfa2_f5a8_11eb_aee4_0242ac1c0002row2_col11,#T_a692cfa2_f5a8_11eb_aee4_0242ac1c0002row7_col8{\n",
              "            background-color:  #5b7ae5;\n",
              "            color:  #000000;\n",
              "        }#T_a692cfa2_f5a8_11eb_aee4_0242ac1c0002row2_col12,#T_a692cfa2_f5a8_11eb_aee4_0242ac1c0002row3_col14,#T_a692cfa2_f5a8_11eb_aee4_0242ac1c0002row7_col2,#T_a692cfa2_f5a8_11eb_aee4_0242ac1c0002row13_col6,#T_a692cfa2_f5a8_11eb_aee4_0242ac1c0002row13_col7{\n",
              "            background-color:  #5e7de7;\n",
              "            color:  #000000;\n",
              "        }#T_a692cfa2_f5a8_11eb_aee4_0242ac1c0002row3_col0{\n",
              "            background-color:  #a7c5fe;\n",
              "            color:  #000000;\n",
              "        }#T_a692cfa2_f5a8_11eb_aee4_0242ac1c0002row3_col1{\n",
              "            background-color:  #a2c1ff;\n",
              "            color:  #000000;\n",
              "        }#T_a692cfa2_f5a8_11eb_aee4_0242ac1c0002row3_col2{\n",
              "            background-color:  #f7bca1;\n",
              "            color:  #000000;\n",
              "        }#T_a692cfa2_f5a8_11eb_aee4_0242ac1c0002row3_col4,#T_a692cfa2_f5a8_11eb_aee4_0242ac1c0002row4_col15{\n",
              "            background-color:  #afcafc;\n",
              "            color:  #000000;\n",
              "        }#T_a692cfa2_f5a8_11eb_aee4_0242ac1c0002row3_col5{\n",
              "            background-color:  #c3d5f4;\n",
              "            color:  #000000;\n",
              "        }#T_a692cfa2_f5a8_11eb_aee4_0242ac1c0002row3_col6,#T_a692cfa2_f5a8_11eb_aee4_0242ac1c0002row9_col8,#T_a692cfa2_f5a8_11eb_aee4_0242ac1c0002row10_col7,#T_a692cfa2_f5a8_11eb_aee4_0242ac1c0002row12_col6,#T_a692cfa2_f5a8_11eb_aee4_0242ac1c0002row12_col7,#T_a692cfa2_f5a8_11eb_aee4_0242ac1c0002row13_col1{\n",
              "            background-color:  #4358cb;\n",
              "            color:  #f1f1f1;\n",
              "        }#T_a692cfa2_f5a8_11eb_aee4_0242ac1c0002row3_col8,#T_a692cfa2_f5a8_11eb_aee4_0242ac1c0002row6_col3{\n",
              "            background-color:  #6180e9;\n",
              "            color:  #000000;\n",
              "        }#T_a692cfa2_f5a8_11eb_aee4_0242ac1c0002row3_col9,#T_a692cfa2_f5a8_11eb_aee4_0242ac1c0002row4_col6,#T_a692cfa2_f5a8_11eb_aee4_0242ac1c0002row14_col8{\n",
              "            background-color:  #4f69d9;\n",
              "            color:  #000000;\n",
              "        }#T_a692cfa2_f5a8_11eb_aee4_0242ac1c0002row3_col10,#T_a692cfa2_f5a8_11eb_aee4_0242ac1c0002row6_col2,#T_a692cfa2_f5a8_11eb_aee4_0242ac1c0002row9_col11,#T_a692cfa2_f5a8_11eb_aee4_0242ac1c0002row13_col12,#T_a692cfa2_f5a8_11eb_aee4_0242ac1c0002row14_col15{\n",
              "            background-color:  #5572df;\n",
              "            color:  #000000;\n",
              "        }#T_a692cfa2_f5a8_11eb_aee4_0242ac1c0002row3_col11{\n",
              "            background-color:  #516ddb;\n",
              "            color:  #000000;\n",
              "        }#T_a692cfa2_f5a8_11eb_aee4_0242ac1c0002row4_col0{\n",
              "            background-color:  #ebd3c6;\n",
              "            color:  #000000;\n",
              "        }#T_a692cfa2_f5a8_11eb_aee4_0242ac1c0002row4_col1{\n",
              "            background-color:  #cfdaea;\n",
              "            color:  #000000;\n",
              "        }#T_a692cfa2_f5a8_11eb_aee4_0242ac1c0002row4_col2{\n",
              "            background-color:  #e1dad6;\n",
              "            color:  #000000;\n",
              "        }#T_a692cfa2_f5a8_11eb_aee4_0242ac1c0002row4_col3{\n",
              "            background-color:  #cdd9ec;\n",
              "            color:  #000000;\n",
              "        }#T_a692cfa2_f5a8_11eb_aee4_0242ac1c0002row4_col5{\n",
              "            background-color:  #d85646;\n",
              "            color:  #000000;\n",
              "        }#T_a692cfa2_f5a8_11eb_aee4_0242ac1c0002row4_col8{\n",
              "            background-color:  #94b6ff;\n",
              "            color:  #000000;\n",
              "        }#T_a692cfa2_f5a8_11eb_aee4_0242ac1c0002row4_col9,#T_a692cfa2_f5a8_11eb_aee4_0242ac1c0002row5_col14{\n",
              "            background-color:  #7ea1fa;\n",
              "            color:  #000000;\n",
              "        }#T_a692cfa2_f5a8_11eb_aee4_0242ac1c0002row4_col12,#T_a692cfa2_f5a8_11eb_aee4_0242ac1c0002row5_col11,#T_a692cfa2_f5a8_11eb_aee4_0242ac1c0002row8_col4,#T_a692cfa2_f5a8_11eb_aee4_0242ac1c0002row15_col14{\n",
              "            background-color:  #7a9df8;\n",
              "            color:  #000000;\n",
              "        }#T_a692cfa2_f5a8_11eb_aee4_0242ac1c0002row4_col13,#T_a692cfa2_f5a8_11eb_aee4_0242ac1c0002row7_col14,#T_a692cfa2_f5a8_11eb_aee4_0242ac1c0002row8_col5,#T_a692cfa2_f5a8_11eb_aee4_0242ac1c0002row15_col11{\n",
              "            background-color:  #799cf8;\n",
              "            color:  #000000;\n",
              "        }#T_a692cfa2_f5a8_11eb_aee4_0242ac1c0002row4_col14,#T_a692cfa2_f5a8_11eb_aee4_0242ac1c0002row6_col9{\n",
              "            background-color:  #89acfd;\n",
              "            color:  #000000;\n",
              "        }#T_a692cfa2_f5a8_11eb_aee4_0242ac1c0002row5_col0{\n",
              "            background-color:  #dcdddd;\n",
              "            color:  #000000;\n",
              "        }#T_a692cfa2_f5a8_11eb_aee4_0242ac1c0002row5_col1{\n",
              "            background-color:  #d9dce1;\n",
              "            color:  #000000;\n",
              "        }#T_a692cfa2_f5a8_11eb_aee4_0242ac1c0002row5_col2{\n",
              "            background-color:  #dfdbd9;\n",
              "            color:  #000000;\n",
              "        }#T_a692cfa2_f5a8_11eb_aee4_0242ac1c0002row5_col3{\n",
              "            background-color:  #d7dce3;\n",
              "            color:  #000000;\n",
              "        }#T_a692cfa2_f5a8_11eb_aee4_0242ac1c0002row5_col4{\n",
              "            background-color:  #d95847;\n",
              "            color:  #000000;\n",
              "        }#T_a692cfa2_f5a8_11eb_aee4_0242ac1c0002row5_col8{\n",
              "            background-color:  #8badfd;\n",
              "            color:  #000000;\n",
              "        }#T_a692cfa2_f5a8_11eb_aee4_0242ac1c0002row5_col9,#T_a692cfa2_f5a8_11eb_aee4_0242ac1c0002row5_col12,#T_a692cfa2_f5a8_11eb_aee4_0242ac1c0002row5_col13,#T_a692cfa2_f5a8_11eb_aee4_0242ac1c0002row8_col3{\n",
              "            background-color:  #7295f4;\n",
              "            color:  #000000;\n",
              "        }#T_a692cfa2_f5a8_11eb_aee4_0242ac1c0002row5_col10,#T_a692cfa2_f5a8_11eb_aee4_0242ac1c0002row8_col1{\n",
              "            background-color:  #7da0f9;\n",
              "            color:  #000000;\n",
              "        }#T_a692cfa2_f5a8_11eb_aee4_0242ac1c0002row5_col15{\n",
              "            background-color:  #a6c4fe;\n",
              "            color:  #000000;\n",
              "        }#T_a692cfa2_f5a8_11eb_aee4_0242ac1c0002row6_col1,#T_a692cfa2_f5a8_11eb_aee4_0242ac1c0002row9_col4,#T_a692cfa2_f5a8_11eb_aee4_0242ac1c0002row14_col5{\n",
              "            background-color:  #4e68d8;\n",
              "            color:  #000000;\n",
              "        }#T_a692cfa2_f5a8_11eb_aee4_0242ac1c0002row6_col4,#T_a692cfa2_f5a8_11eb_aee4_0242ac1c0002row10_col14,#T_a692cfa2_f5a8_11eb_aee4_0242ac1c0002row11_col0,#T_a692cfa2_f5a8_11eb_aee4_0242ac1c0002row14_col6{\n",
              "            background-color:  #3e51c5;\n",
              "            color:  #f1f1f1;\n",
              "        }#T_a692cfa2_f5a8_11eb_aee4_0242ac1c0002row6_col5,#T_a692cfa2_f5a8_11eb_aee4_0242ac1c0002row10_col8,#T_a692cfa2_f5a8_11eb_aee4_0242ac1c0002row11_col5,#T_a692cfa2_f5a8_11eb_aee4_0242ac1c0002row11_col7,#T_a692cfa2_f5a8_11eb_aee4_0242ac1c0002row12_col0,#T_a692cfa2_f5a8_11eb_aee4_0242ac1c0002row12_col1{\n",
              "            background-color:  #445acc;\n",
              "            color:  #f1f1f1;\n",
              "        }#T_a692cfa2_f5a8_11eb_aee4_0242ac1c0002row6_col7{\n",
              "            background-color:  #cd423b;\n",
              "            color:  #f1f1f1;\n",
              "        }#T_a692cfa2_f5a8_11eb_aee4_0242ac1c0002row6_col8,#T_a692cfa2_f5a8_11eb_aee4_0242ac1c0002row7_col1,#T_a692cfa2_f5a8_11eb_aee4_0242ac1c0002row7_col15,#T_a692cfa2_f5a8_11eb_aee4_0242ac1c0002row11_col8,#T_a692cfa2_f5a8_11eb_aee4_0242ac1c0002row12_col13,#T_a692cfa2_f5a8_11eb_aee4_0242ac1c0002row14_col0{\n",
              "            background-color:  #5470de;\n",
              "            color:  #000000;\n",
              "        }#T_a692cfa2_f5a8_11eb_aee4_0242ac1c0002row6_col10,#T_a692cfa2_f5a8_11eb_aee4_0242ac1c0002row10_col13{\n",
              "            background-color:  #7b9ff9;\n",
              "            color:  #000000;\n",
              "        }#T_a692cfa2_f5a8_11eb_aee4_0242ac1c0002row6_col12{\n",
              "            background-color:  #7396f5;\n",
              "            color:  #000000;\n",
              "        }#T_a692cfa2_f5a8_11eb_aee4_0242ac1c0002row6_col14,#T_a692cfa2_f5a8_11eb_aee4_0242ac1c0002row11_col13{\n",
              "            background-color:  #688aef;\n",
              "            color:  #000000;\n",
              "        }#T_a692cfa2_f5a8_11eb_aee4_0242ac1c0002row6_col15,#T_a692cfa2_f5a8_11eb_aee4_0242ac1c0002row9_col3,#T_a692cfa2_f5a8_11eb_aee4_0242ac1c0002row11_col15,#T_a692cfa2_f5a8_11eb_aee4_0242ac1c0002row14_col10{\n",
              "            background-color:  #4c66d6;\n",
              "            color:  #000000;\n",
              "        }#T_a692cfa2_f5a8_11eb_aee4_0242ac1c0002row7_col3,#T_a692cfa2_f5a8_11eb_aee4_0242ac1c0002row15_col12{\n",
              "            background-color:  #6e90f2;\n",
              "            color:  #000000;\n",
              "        }#T_a692cfa2_f5a8_11eb_aee4_0242ac1c0002row7_col4,#T_a692cfa2_f5a8_11eb_aee4_0242ac1c0002row10_col4,#T_a692cfa2_f5a8_11eb_aee4_0242ac1c0002row10_col5,#T_a692cfa2_f5a8_11eb_aee4_0242ac1c0002row13_col3{\n",
              "            background-color:  #3f53c6;\n",
              "            color:  #f1f1f1;\n",
              "        }#T_a692cfa2_f5a8_11eb_aee4_0242ac1c0002row7_col5,#T_a692cfa2_f5a8_11eb_aee4_0242ac1c0002row8_col6,#T_a692cfa2_f5a8_11eb_aee4_0242ac1c0002row12_col8{\n",
              "            background-color:  #4961d2;\n",
              "            color:  #f1f1f1;\n",
              "        }#T_a692cfa2_f5a8_11eb_aee4_0242ac1c0002row7_col6{\n",
              "            background-color:  #cb3e38;\n",
              "            color:  #f1f1f1;\n",
              "        }#T_a692cfa2_f5a8_11eb_aee4_0242ac1c0002row7_col9{\n",
              "            background-color:  #a5c3fe;\n",
              "            color:  #000000;\n",
              "        }#T_a692cfa2_f5a8_11eb_aee4_0242ac1c0002row7_col10,#T_a692cfa2_f5a8_11eb_aee4_0242ac1c0002row11_col10,#T_a692cfa2_f5a8_11eb_aee4_0242ac1c0002row15_col2{\n",
              "            background-color:  #8db0fe;\n",
              "            color:  #000000;\n",
              "        }#T_a692cfa2_f5a8_11eb_aee4_0242ac1c0002row7_col12,#T_a692cfa2_f5a8_11eb_aee4_0242ac1c0002row8_col0,#T_a692cfa2_f5a8_11eb_aee4_0242ac1c0002row10_col11{\n",
              "            background-color:  #86a9fc;\n",
              "            color:  #000000;\n",
              "        }#T_a692cfa2_f5a8_11eb_aee4_0242ac1c0002row7_col13,#T_a692cfa2_f5a8_11eb_aee4_0242ac1c0002row15_col5{\n",
              "            background-color:  #9ebeff;\n",
              "            color:  #000000;\n",
              "        }#T_a692cfa2_f5a8_11eb_aee4_0242ac1c0002row8_col2{\n",
              "            background-color:  #779af7;\n",
              "            color:  #000000;\n",
              "        }#T_a692cfa2_f5a8_11eb_aee4_0242ac1c0002row8_col9{\n",
              "            background-color:  #5875e1;\n",
              "            color:  #000000;\n",
              "        }#T_a692cfa2_f5a8_11eb_aee4_0242ac1c0002row8_col11{\n",
              "            background-color:  #7699f6;\n",
              "            color:  #000000;\n",
              "        }#T_a692cfa2_f5a8_11eb_aee4_0242ac1c0002row9_col1,#T_a692cfa2_f5a8_11eb_aee4_0242ac1c0002row11_col3,#T_a692cfa2_f5a8_11eb_aee4_0242ac1c0002row12_col9,#T_a692cfa2_f5a8_11eb_aee4_0242ac1c0002row14_col11{\n",
              "            background-color:  #4055c8;\n",
              "            color:  #f1f1f1;\n",
              "        }#T_a692cfa2_f5a8_11eb_aee4_0242ac1c0002row9_col6{\n",
              "            background-color:  #6b8df0;\n",
              "            color:  #000000;\n",
              "        }#T_a692cfa2_f5a8_11eb_aee4_0242ac1c0002row9_col13{\n",
              "            background-color:  #6485ec;\n",
              "            color:  #000000;\n",
              "        }#T_a692cfa2_f5a8_11eb_aee4_0242ac1c0002row9_col15,#T_a692cfa2_f5a8_11eb_aee4_0242ac1c0002row10_col0,#T_a692cfa2_f5a8_11eb_aee4_0242ac1c0002row12_col2,#T_a692cfa2_f5a8_11eb_aee4_0242ac1c0002row12_col3,#T_a692cfa2_f5a8_11eb_aee4_0242ac1c0002row13_col0,#T_a692cfa2_f5a8_11eb_aee4_0242ac1c0002row13_col2{\n",
              "            background-color:  #3d50c3;\n",
              "            color:  #f1f1f1;\n",
              "        }#T_a692cfa2_f5a8_11eb_aee4_0242ac1c0002row10_col1,#T_a692cfa2_f5a8_11eb_aee4_0242ac1c0002row10_col2,#T_a692cfa2_f5a8_11eb_aee4_0242ac1c0002row10_col3,#T_a692cfa2_f5a8_11eb_aee4_0242ac1c0002row12_col5,#T_a692cfa2_f5a8_11eb_aee4_0242ac1c0002row13_col5{\n",
              "            background-color:  #3c4ec2;\n",
              "            color:  #f1f1f1;\n",
              "        }#T_a692cfa2_f5a8_11eb_aee4_0242ac1c0002row10_col6,#T_a692cfa2_f5a8_11eb_aee4_0242ac1c0002row12_col14,#T_a692cfa2_f5a8_11eb_aee4_0242ac1c0002row13_col15{\n",
              "            background-color:  #455cce;\n",
              "            color:  #f1f1f1;\n",
              "        }#T_a692cfa2_f5a8_11eb_aee4_0242ac1c0002row10_col9,#T_a692cfa2_f5a8_11eb_aee4_0242ac1c0002row11_col1,#T_a692cfa2_f5a8_11eb_aee4_0242ac1c0002row11_col4,#T_a692cfa2_f5a8_11eb_aee4_0242ac1c0002row11_col6,#T_a692cfa2_f5a8_11eb_aee4_0242ac1c0002row12_col15{\n",
              "            background-color:  #4257c9;\n",
              "            color:  #f1f1f1;\n",
              "        }#T_a692cfa2_f5a8_11eb_aee4_0242ac1c0002row10_col12,#T_a692cfa2_f5a8_11eb_aee4_0242ac1c0002row13_col9,#T_a692cfa2_f5a8_11eb_aee4_0242ac1c0002row14_col2{\n",
              "            background-color:  #5673e0;\n",
              "            color:  #000000;\n",
              "        }#T_a692cfa2_f5a8_11eb_aee4_0242ac1c0002row13_col11{\n",
              "            background-color:  #6a8bef;\n",
              "            color:  #000000;\n",
              "        }#T_a692cfa2_f5a8_11eb_aee4_0242ac1c0002row14_col3{\n",
              "            background-color:  #536edd;\n",
              "            color:  #000000;\n",
              "        }#T_a692cfa2_f5a8_11eb_aee4_0242ac1c0002row14_col9,#T_a692cfa2_f5a8_11eb_aee4_0242ac1c0002row15_col6{\n",
              "            background-color:  #485fd1;\n",
              "            color:  #f1f1f1;\n",
              "        }#T_a692cfa2_f5a8_11eb_aee4_0242ac1c0002row14_col12,#T_a692cfa2_f5a8_11eb_aee4_0242ac1c0002row14_col13{\n",
              "            background-color:  #4b64d5;\n",
              "            color:  #f1f1f1;\n",
              "        }#T_a692cfa2_f5a8_11eb_aee4_0242ac1c0002row15_col0{\n",
              "            background-color:  #9abbff;\n",
              "            color:  #000000;\n",
              "        }#T_a692cfa2_f5a8_11eb_aee4_0242ac1c0002row15_col4{\n",
              "            background-color:  #9fbfff;\n",
              "            color:  #000000;\n",
              "        }#T_a692cfa2_f5a8_11eb_aee4_0242ac1c0002row15_col8{\n",
              "            background-color:  #efcfbf;\n",
              "            color:  #000000;\n",
              "        }#T_a692cfa2_f5a8_11eb_aee4_0242ac1c0002row15_col9{\n",
              "            background-color:  #5a78e4;\n",
              "            color:  #000000;\n",
              "        }</style><table id=\"T_a692cfa2_f5a8_11eb_aee4_0242ac1c0002\" ><thead>    <tr>        <th class=\"blank level0\" ></th>        <th class=\"col_heading level0 col0\" >Administrative</th>        <th class=\"col_heading level0 col1\" >Administrative_Duration</th>        <th class=\"col_heading level0 col2\" >Informational</th>        <th class=\"col_heading level0 col3\" >Informational_Duration</th>        <th class=\"col_heading level0 col4\" >ProductRelated</th>        <th class=\"col_heading level0 col5\" >ProductRelated_Duration</th>        <th class=\"col_heading level0 col6\" >BounceRates</th>        <th class=\"col_heading level0 col7\" >ExitRates</th>        <th class=\"col_heading level0 col8\" >PageValues</th>        <th class=\"col_heading level0 col9\" >SpecialDay</th>        <th class=\"col_heading level0 col10\" >OperatingSystems</th>        <th class=\"col_heading level0 col11\" >Browser</th>        <th class=\"col_heading level0 col12\" >Region</th>        <th class=\"col_heading level0 col13\" >TrafficType</th>        <th class=\"col_heading level0 col14\" >Weekend</th>        <th class=\"col_heading level0 col15\" >Revenue</th>    </tr></thead><tbody>\n",
              "                <tr>\n",
              "                        <th id=\"T_a692cfa2_f5a8_11eb_aee4_0242ac1c0002level0_row0\" class=\"row_heading level0 row0\" >Administrative</th>\n",
              "                        <td id=\"T_a692cfa2_f5a8_11eb_aee4_0242ac1c0002row0_col0\" class=\"data row0 col0\" >1.0</td>\n",
              "                        <td id=\"T_a692cfa2_f5a8_11eb_aee4_0242ac1c0002row0_col1\" class=\"data row0 col1\" >0.6</td>\n",
              "                        <td id=\"T_a692cfa2_f5a8_11eb_aee4_0242ac1c0002row0_col2\" class=\"data row0 col2\" >0.38</td>\n",
              "                        <td id=\"T_a692cfa2_f5a8_11eb_aee4_0242ac1c0002row0_col3\" class=\"data row0 col3\" >0.26</td>\n",
              "                        <td id=\"T_a692cfa2_f5a8_11eb_aee4_0242ac1c0002row0_col4\" class=\"data row0 col4\" >0.43</td>\n",
              "                        <td id=\"T_a692cfa2_f5a8_11eb_aee4_0242ac1c0002row0_col5\" class=\"data row0 col5\" >0.37</td>\n",
              "                        <td id=\"T_a692cfa2_f5a8_11eb_aee4_0242ac1c0002row0_col6\" class=\"data row0 col6\" >-0.22</td>\n",
              "                        <td id=\"T_a692cfa2_f5a8_11eb_aee4_0242ac1c0002row0_col7\" class=\"data row0 col7\" >-0.32</td>\n",
              "                        <td id=\"T_a692cfa2_f5a8_11eb_aee4_0242ac1c0002row0_col8\" class=\"data row0 col8\" >0.099</td>\n",
              "                        <td id=\"T_a692cfa2_f5a8_11eb_aee4_0242ac1c0002row0_col9\" class=\"data row0 col9\" >-0.095</td>\n",
              "                        <td id=\"T_a692cfa2_f5a8_11eb_aee4_0242ac1c0002row0_col10\" class=\"data row0 col10\" >-0.0063</td>\n",
              "                        <td id=\"T_a692cfa2_f5a8_11eb_aee4_0242ac1c0002row0_col11\" class=\"data row0 col11\" >-0.025</td>\n",
              "                        <td id=\"T_a692cfa2_f5a8_11eb_aee4_0242ac1c0002row0_col12\" class=\"data row0 col12\" >-0.0055</td>\n",
              "                        <td id=\"T_a692cfa2_f5a8_11eb_aee4_0242ac1c0002row0_col13\" class=\"data row0 col13\" >-0.034</td>\n",
              "                        <td id=\"T_a692cfa2_f5a8_11eb_aee4_0242ac1c0002row0_col14\" class=\"data row0 col14\" >0.026</td>\n",
              "                        <td id=\"T_a692cfa2_f5a8_11eb_aee4_0242ac1c0002row0_col15\" class=\"data row0 col15\" >0.14</td>\n",
              "            </tr>\n",
              "            <tr>\n",
              "                        <th id=\"T_a692cfa2_f5a8_11eb_aee4_0242ac1c0002level0_row1\" class=\"row_heading level0 row1\" >Administrative_Duration</th>\n",
              "                        <td id=\"T_a692cfa2_f5a8_11eb_aee4_0242ac1c0002row1_col0\" class=\"data row1 col0\" >0.6</td>\n",
              "                        <td id=\"T_a692cfa2_f5a8_11eb_aee4_0242ac1c0002row1_col1\" class=\"data row1 col1\" >1.0</td>\n",
              "                        <td id=\"T_a692cfa2_f5a8_11eb_aee4_0242ac1c0002row1_col2\" class=\"data row1 col2\" >0.3</td>\n",
              "                        <td id=\"T_a692cfa2_f5a8_11eb_aee4_0242ac1c0002row1_col3\" class=\"data row1 col3\" >0.24</td>\n",
              "                        <td id=\"T_a692cfa2_f5a8_11eb_aee4_0242ac1c0002row1_col4\" class=\"data row1 col4\" >0.29</td>\n",
              "                        <td id=\"T_a692cfa2_f5a8_11eb_aee4_0242ac1c0002row1_col5\" class=\"data row1 col5\" >0.36</td>\n",
              "                        <td id=\"T_a692cfa2_f5a8_11eb_aee4_0242ac1c0002row1_col6\" class=\"data row1 col6\" >-0.14</td>\n",
              "                        <td id=\"T_a692cfa2_f5a8_11eb_aee4_0242ac1c0002row1_col7\" class=\"data row1 col7\" >-0.21</td>\n",
              "                        <td id=\"T_a692cfa2_f5a8_11eb_aee4_0242ac1c0002row1_col8\" class=\"data row1 col8\" >0.068</td>\n",
              "                        <td id=\"T_a692cfa2_f5a8_11eb_aee4_0242ac1c0002row1_col9\" class=\"data row1 col9\" >-0.073</td>\n",
              "                        <td id=\"T_a692cfa2_f5a8_11eb_aee4_0242ac1c0002row1_col10\" class=\"data row1 col10\" >-0.0073</td>\n",
              "                        <td id=\"T_a692cfa2_f5a8_11eb_aee4_0242ac1c0002row1_col11\" class=\"data row1 col11\" >-0.015</td>\n",
              "                        <td id=\"T_a692cfa2_f5a8_11eb_aee4_0242ac1c0002row1_col12\" class=\"data row1 col12\" >-0.0056</td>\n",
              "                        <td id=\"T_a692cfa2_f5a8_11eb_aee4_0242ac1c0002row1_col13\" class=\"data row1 col13\" >-0.014</td>\n",
              "                        <td id=\"T_a692cfa2_f5a8_11eb_aee4_0242ac1c0002row1_col14\" class=\"data row1 col14\" >0.015</td>\n",
              "                        <td id=\"T_a692cfa2_f5a8_11eb_aee4_0242ac1c0002row1_col15\" class=\"data row1 col15\" >0.094</td>\n",
              "            </tr>\n",
              "            <tr>\n",
              "                        <th id=\"T_a692cfa2_f5a8_11eb_aee4_0242ac1c0002level0_row2\" class=\"row_heading level0 row2\" >Informational</th>\n",
              "                        <td id=\"T_a692cfa2_f5a8_11eb_aee4_0242ac1c0002row2_col0\" class=\"data row2 col0\" >0.38</td>\n",
              "                        <td id=\"T_a692cfa2_f5a8_11eb_aee4_0242ac1c0002row2_col1\" class=\"data row2 col1\" >0.3</td>\n",
              "                        <td id=\"T_a692cfa2_f5a8_11eb_aee4_0242ac1c0002row2_col2\" class=\"data row2 col2\" >1.0</td>\n",
              "                        <td id=\"T_a692cfa2_f5a8_11eb_aee4_0242ac1c0002row2_col3\" class=\"data row2 col3\" >0.62</td>\n",
              "                        <td id=\"T_a692cfa2_f5a8_11eb_aee4_0242ac1c0002row2_col4\" class=\"data row2 col4\" >0.37</td>\n",
              "                        <td id=\"T_a692cfa2_f5a8_11eb_aee4_0242ac1c0002row2_col5\" class=\"data row2 col5\" >0.39</td>\n",
              "                        <td id=\"T_a692cfa2_f5a8_11eb_aee4_0242ac1c0002row2_col6\" class=\"data row2 col6\" >-0.12</td>\n",
              "                        <td id=\"T_a692cfa2_f5a8_11eb_aee4_0242ac1c0002row2_col7\" class=\"data row2 col7\" >-0.16</td>\n",
              "                        <td id=\"T_a692cfa2_f5a8_11eb_aee4_0242ac1c0002row2_col8\" class=\"data row2 col8\" >0.049</td>\n",
              "                        <td id=\"T_a692cfa2_f5a8_11eb_aee4_0242ac1c0002row2_col9\" class=\"data row2 col9\" >-0.048</td>\n",
              "                        <td id=\"T_a692cfa2_f5a8_11eb_aee4_0242ac1c0002row2_col10\" class=\"data row2 col10\" >-0.0095</td>\n",
              "                        <td id=\"T_a692cfa2_f5a8_11eb_aee4_0242ac1c0002row2_col11\" class=\"data row2 col11\" >-0.038</td>\n",
              "                        <td id=\"T_a692cfa2_f5a8_11eb_aee4_0242ac1c0002row2_col12\" class=\"data row2 col12\" >-0.029</td>\n",
              "                        <td id=\"T_a692cfa2_f5a8_11eb_aee4_0242ac1c0002row2_col13\" class=\"data row2 col13\" >-0.034</td>\n",
              "                        <td id=\"T_a692cfa2_f5a8_11eb_aee4_0242ac1c0002row2_col14\" class=\"data row2 col14\" >0.036</td>\n",
              "                        <td id=\"T_a692cfa2_f5a8_11eb_aee4_0242ac1c0002row2_col15\" class=\"data row2 col15\" >0.095</td>\n",
              "            </tr>\n",
              "            <tr>\n",
              "                        <th id=\"T_a692cfa2_f5a8_11eb_aee4_0242ac1c0002level0_row3\" class=\"row_heading level0 row3\" >Informational_Duration</th>\n",
              "                        <td id=\"T_a692cfa2_f5a8_11eb_aee4_0242ac1c0002row3_col0\" class=\"data row3 col0\" >0.26</td>\n",
              "                        <td id=\"T_a692cfa2_f5a8_11eb_aee4_0242ac1c0002row3_col1\" class=\"data row3 col1\" >0.24</td>\n",
              "                        <td id=\"T_a692cfa2_f5a8_11eb_aee4_0242ac1c0002row3_col2\" class=\"data row3 col2\" >0.62</td>\n",
              "                        <td id=\"T_a692cfa2_f5a8_11eb_aee4_0242ac1c0002row3_col3\" class=\"data row3 col3\" >1.0</td>\n",
              "                        <td id=\"T_a692cfa2_f5a8_11eb_aee4_0242ac1c0002row3_col4\" class=\"data row3 col4\" >0.28</td>\n",
              "                        <td id=\"T_a692cfa2_f5a8_11eb_aee4_0242ac1c0002row3_col5\" class=\"data row3 col5\" >0.35</td>\n",
              "                        <td id=\"T_a692cfa2_f5a8_11eb_aee4_0242ac1c0002row3_col6\" class=\"data row3 col6\" >-0.074</td>\n",
              "                        <td id=\"T_a692cfa2_f5a8_11eb_aee4_0242ac1c0002row3_col7\" class=\"data row3 col7\" >-0.11</td>\n",
              "                        <td id=\"T_a692cfa2_f5a8_11eb_aee4_0242ac1c0002row3_col8\" class=\"data row3 col8\" >0.031</td>\n",
              "                        <td id=\"T_a692cfa2_f5a8_11eb_aee4_0242ac1c0002row3_col9\" class=\"data row3 col9\" >-0.031</td>\n",
              "                        <td id=\"T_a692cfa2_f5a8_11eb_aee4_0242ac1c0002row3_col10\" class=\"data row3 col10\" >-0.0096</td>\n",
              "                        <td id=\"T_a692cfa2_f5a8_11eb_aee4_0242ac1c0002row3_col11\" class=\"data row3 col11\" >-0.019</td>\n",
              "                        <td id=\"T_a692cfa2_f5a8_11eb_aee4_0242ac1c0002row3_col12\" class=\"data row3 col12\" >-0.027</td>\n",
              "                        <td id=\"T_a692cfa2_f5a8_11eb_aee4_0242ac1c0002row3_col13\" class=\"data row3 col13\" >-0.025</td>\n",
              "                        <td id=\"T_a692cfa2_f5a8_11eb_aee4_0242ac1c0002row3_col14\" class=\"data row3 col14\" >0.024</td>\n",
              "                        <td id=\"T_a692cfa2_f5a8_11eb_aee4_0242ac1c0002row3_col15\" class=\"data row3 col15\" >0.07</td>\n",
              "            </tr>\n",
              "            <tr>\n",
              "                        <th id=\"T_a692cfa2_f5a8_11eb_aee4_0242ac1c0002level0_row4\" class=\"row_heading level0 row4\" >ProductRelated</th>\n",
              "                        <td id=\"T_a692cfa2_f5a8_11eb_aee4_0242ac1c0002row4_col0\" class=\"data row4 col0\" >0.43</td>\n",
              "                        <td id=\"T_a692cfa2_f5a8_11eb_aee4_0242ac1c0002row4_col1\" class=\"data row4 col1\" >0.29</td>\n",
              "                        <td id=\"T_a692cfa2_f5a8_11eb_aee4_0242ac1c0002row4_col2\" class=\"data row4 col2\" >0.37</td>\n",
              "                        <td id=\"T_a692cfa2_f5a8_11eb_aee4_0242ac1c0002row4_col3\" class=\"data row4 col3\" >0.28</td>\n",
              "                        <td id=\"T_a692cfa2_f5a8_11eb_aee4_0242ac1c0002row4_col4\" class=\"data row4 col4\" >1.0</td>\n",
              "                        <td id=\"T_a692cfa2_f5a8_11eb_aee4_0242ac1c0002row4_col5\" class=\"data row4 col5\" >0.86</td>\n",
              "                        <td id=\"T_a692cfa2_f5a8_11eb_aee4_0242ac1c0002row4_col6\" class=\"data row4 col6\" >-0.2</td>\n",
              "                        <td id=\"T_a692cfa2_f5a8_11eb_aee4_0242ac1c0002row4_col7\" class=\"data row4 col7\" >-0.29</td>\n",
              "                        <td id=\"T_a692cfa2_f5a8_11eb_aee4_0242ac1c0002row4_col8\" class=\"data row4 col8\" >0.056</td>\n",
              "                        <td id=\"T_a692cfa2_f5a8_11eb_aee4_0242ac1c0002row4_col9\" class=\"data row4 col9\" >-0.024</td>\n",
              "                        <td id=\"T_a692cfa2_f5a8_11eb_aee4_0242ac1c0002row4_col10\" class=\"data row4 col10\" >0.0043</td>\n",
              "                        <td id=\"T_a692cfa2_f5a8_11eb_aee4_0242ac1c0002row4_col11\" class=\"data row4 col11\" >-0.013</td>\n",
              "                        <td id=\"T_a692cfa2_f5a8_11eb_aee4_0242ac1c0002row4_col12\" class=\"data row4 col12\" >-0.038</td>\n",
              "                        <td id=\"T_a692cfa2_f5a8_11eb_aee4_0242ac1c0002row4_col13\" class=\"data row4 col13\" >-0.043</td>\n",
              "                        <td id=\"T_a692cfa2_f5a8_11eb_aee4_0242ac1c0002row4_col14\" class=\"data row4 col14\" >0.016</td>\n",
              "                        <td id=\"T_a692cfa2_f5a8_11eb_aee4_0242ac1c0002row4_col15\" class=\"data row4 col15\" >0.16</td>\n",
              "            </tr>\n",
              "            <tr>\n",
              "                        <th id=\"T_a692cfa2_f5a8_11eb_aee4_0242ac1c0002level0_row5\" class=\"row_heading level0 row5\" >ProductRelated_Duration</th>\n",
              "                        <td id=\"T_a692cfa2_f5a8_11eb_aee4_0242ac1c0002row5_col0\" class=\"data row5 col0\" >0.37</td>\n",
              "                        <td id=\"T_a692cfa2_f5a8_11eb_aee4_0242ac1c0002row5_col1\" class=\"data row5 col1\" >0.36</td>\n",
              "                        <td id=\"T_a692cfa2_f5a8_11eb_aee4_0242ac1c0002row5_col2\" class=\"data row5 col2\" >0.39</td>\n",
              "                        <td id=\"T_a692cfa2_f5a8_11eb_aee4_0242ac1c0002row5_col3\" class=\"data row5 col3\" >0.35</td>\n",
              "                        <td id=\"T_a692cfa2_f5a8_11eb_aee4_0242ac1c0002row5_col4\" class=\"data row5 col4\" >0.86</td>\n",
              "                        <td id=\"T_a692cfa2_f5a8_11eb_aee4_0242ac1c0002row5_col5\" class=\"data row5 col5\" >1.0</td>\n",
              "                        <td id=\"T_a692cfa2_f5a8_11eb_aee4_0242ac1c0002row5_col6\" class=\"data row5 col6\" >-0.18</td>\n",
              "                        <td id=\"T_a692cfa2_f5a8_11eb_aee4_0242ac1c0002row5_col7\" class=\"data row5 col7\" >-0.25</td>\n",
              "                        <td id=\"T_a692cfa2_f5a8_11eb_aee4_0242ac1c0002row5_col8\" class=\"data row5 col8\" >0.053</td>\n",
              "                        <td id=\"T_a692cfa2_f5a8_11eb_aee4_0242ac1c0002row5_col9\" class=\"data row5 col9\" >-0.036</td>\n",
              "                        <td id=\"T_a692cfa2_f5a8_11eb_aee4_0242ac1c0002row5_col10\" class=\"data row5 col10\" >0.003</td>\n",
              "                        <td id=\"T_a692cfa2_f5a8_11eb_aee4_0242ac1c0002row5_col11\" class=\"data row5 col11\" >-0.0074</td>\n",
              "                        <td id=\"T_a692cfa2_f5a8_11eb_aee4_0242ac1c0002row5_col12\" class=\"data row5 col12\" >-0.033</td>\n",
              "                        <td id=\"T_a692cfa2_f5a8_11eb_aee4_0242ac1c0002row5_col13\" class=\"data row5 col13\" >-0.036</td>\n",
              "                        <td id=\"T_a692cfa2_f5a8_11eb_aee4_0242ac1c0002row5_col14\" class=\"data row5 col14\" >0.0073</td>\n",
              "                        <td id=\"T_a692cfa2_f5a8_11eb_aee4_0242ac1c0002row5_col15\" class=\"data row5 col15\" >0.15</td>\n",
              "            </tr>\n",
              "            <tr>\n",
              "                        <th id=\"T_a692cfa2_f5a8_11eb_aee4_0242ac1c0002level0_row6\" class=\"row_heading level0 row6\" >BounceRates</th>\n",
              "                        <td id=\"T_a692cfa2_f5a8_11eb_aee4_0242ac1c0002row6_col0\" class=\"data row6 col0\" >-0.22</td>\n",
              "                        <td id=\"T_a692cfa2_f5a8_11eb_aee4_0242ac1c0002row6_col1\" class=\"data row6 col1\" >-0.14</td>\n",
              "                        <td id=\"T_a692cfa2_f5a8_11eb_aee4_0242ac1c0002row6_col2\" class=\"data row6 col2\" >-0.12</td>\n",
              "                        <td id=\"T_a692cfa2_f5a8_11eb_aee4_0242ac1c0002row6_col3\" class=\"data row6 col3\" >-0.074</td>\n",
              "                        <td id=\"T_a692cfa2_f5a8_11eb_aee4_0242ac1c0002row6_col4\" class=\"data row6 col4\" >-0.2</td>\n",
              "                        <td id=\"T_a692cfa2_f5a8_11eb_aee4_0242ac1c0002row6_col5\" class=\"data row6 col5\" >-0.18</td>\n",
              "                        <td id=\"T_a692cfa2_f5a8_11eb_aee4_0242ac1c0002row6_col6\" class=\"data row6 col6\" >1.0</td>\n",
              "                        <td id=\"T_a692cfa2_f5a8_11eb_aee4_0242ac1c0002row6_col7\" class=\"data row6 col7\" >0.91</td>\n",
              "                        <td id=\"T_a692cfa2_f5a8_11eb_aee4_0242ac1c0002row6_col8\" class=\"data row6 col8\" >-0.12</td>\n",
              "                        <td id=\"T_a692cfa2_f5a8_11eb_aee4_0242ac1c0002row6_col9\" class=\"data row6 col9\" >0.073</td>\n",
              "                        <td id=\"T_a692cfa2_f5a8_11eb_aee4_0242ac1c0002row6_col10\" class=\"data row6 col10\" >0.024</td>\n",
              "                        <td id=\"T_a692cfa2_f5a8_11eb_aee4_0242ac1c0002row6_col11\" class=\"data row6 col11\" >-0.016</td>\n",
              "                        <td id=\"T_a692cfa2_f5a8_11eb_aee4_0242ac1c0002row6_col12\" class=\"data row6 col12\" >-0.0065</td>\n",
              "                        <td id=\"T_a692cfa2_f5a8_11eb_aee4_0242ac1c0002row6_col13\" class=\"data row6 col13\" >0.078</td>\n",
              "                        <td id=\"T_a692cfa2_f5a8_11eb_aee4_0242ac1c0002row6_col14\" class=\"data row6 col14\" >-0.047</td>\n",
              "                        <td id=\"T_a692cfa2_f5a8_11eb_aee4_0242ac1c0002row6_col15\" class=\"data row6 col15\" >-0.15</td>\n",
              "            </tr>\n",
              "            <tr>\n",
              "                        <th id=\"T_a692cfa2_f5a8_11eb_aee4_0242ac1c0002level0_row7\" class=\"row_heading level0 row7\" >ExitRates</th>\n",
              "                        <td id=\"T_a692cfa2_f5a8_11eb_aee4_0242ac1c0002row7_col0\" class=\"data row7 col0\" >-0.32</td>\n",
              "                        <td id=\"T_a692cfa2_f5a8_11eb_aee4_0242ac1c0002row7_col1\" class=\"data row7 col1\" >-0.21</td>\n",
              "                        <td id=\"T_a692cfa2_f5a8_11eb_aee4_0242ac1c0002row7_col2\" class=\"data row7 col2\" >-0.16</td>\n",
              "                        <td id=\"T_a692cfa2_f5a8_11eb_aee4_0242ac1c0002row7_col3\" class=\"data row7 col3\" >-0.11</td>\n",
              "                        <td id=\"T_a692cfa2_f5a8_11eb_aee4_0242ac1c0002row7_col4\" class=\"data row7 col4\" >-0.29</td>\n",
              "                        <td id=\"T_a692cfa2_f5a8_11eb_aee4_0242ac1c0002row7_col5\" class=\"data row7 col5\" >-0.25</td>\n",
              "                        <td id=\"T_a692cfa2_f5a8_11eb_aee4_0242ac1c0002row7_col6\" class=\"data row7 col6\" >0.91</td>\n",
              "                        <td id=\"T_a692cfa2_f5a8_11eb_aee4_0242ac1c0002row7_col7\" class=\"data row7 col7\" >1.0</td>\n",
              "                        <td id=\"T_a692cfa2_f5a8_11eb_aee4_0242ac1c0002row7_col8\" class=\"data row7 col8\" >-0.17</td>\n",
              "                        <td id=\"T_a692cfa2_f5a8_11eb_aee4_0242ac1c0002row7_col9\" class=\"data row7 col9\" >0.1</td>\n",
              "                        <td id=\"T_a692cfa2_f5a8_11eb_aee4_0242ac1c0002row7_col10\" class=\"data row7 col10\" >0.015</td>\n",
              "                        <td id=\"T_a692cfa2_f5a8_11eb_aee4_0242ac1c0002row7_col11\" class=\"data row7 col11\" >-0.0044</td>\n",
              "                        <td id=\"T_a692cfa2_f5a8_11eb_aee4_0242ac1c0002row7_col12\" class=\"data row7 col12\" >-0.0089</td>\n",
              "                        <td id=\"T_a692cfa2_f5a8_11eb_aee4_0242ac1c0002row7_col13\" class=\"data row7 col13\" >0.079</td>\n",
              "                        <td id=\"T_a692cfa2_f5a8_11eb_aee4_0242ac1c0002row7_col14\" class=\"data row7 col14\" >-0.063</td>\n",
              "                        <td id=\"T_a692cfa2_f5a8_11eb_aee4_0242ac1c0002row7_col15\" class=\"data row7 col15\" >-0.21</td>\n",
              "            </tr>\n",
              "            <tr>\n",
              "                        <th id=\"T_a692cfa2_f5a8_11eb_aee4_0242ac1c0002level0_row8\" class=\"row_heading level0 row8\" >PageValues</th>\n",
              "                        <td id=\"T_a692cfa2_f5a8_11eb_aee4_0242ac1c0002row8_col0\" class=\"data row8 col0\" >0.099</td>\n",
              "                        <td id=\"T_a692cfa2_f5a8_11eb_aee4_0242ac1c0002row8_col1\" class=\"data row8 col1\" >0.068</td>\n",
              "                        <td id=\"T_a692cfa2_f5a8_11eb_aee4_0242ac1c0002row8_col2\" class=\"data row8 col2\" >0.049</td>\n",
              "                        <td id=\"T_a692cfa2_f5a8_11eb_aee4_0242ac1c0002row8_col3\" class=\"data row8 col3\" >0.031</td>\n",
              "                        <td id=\"T_a692cfa2_f5a8_11eb_aee4_0242ac1c0002row8_col4\" class=\"data row8 col4\" >0.056</td>\n",
              "                        <td id=\"T_a692cfa2_f5a8_11eb_aee4_0242ac1c0002row8_col5\" class=\"data row8 col5\" >0.053</td>\n",
              "                        <td id=\"T_a692cfa2_f5a8_11eb_aee4_0242ac1c0002row8_col6\" class=\"data row8 col6\" >-0.12</td>\n",
              "                        <td id=\"T_a692cfa2_f5a8_11eb_aee4_0242ac1c0002row8_col7\" class=\"data row8 col7\" >-0.17</td>\n",
              "                        <td id=\"T_a692cfa2_f5a8_11eb_aee4_0242ac1c0002row8_col8\" class=\"data row8 col8\" >1.0</td>\n",
              "                        <td id=\"T_a692cfa2_f5a8_11eb_aee4_0242ac1c0002row8_col9\" class=\"data row8 col9\" >-0.064</td>\n",
              "                        <td id=\"T_a692cfa2_f5a8_11eb_aee4_0242ac1c0002row8_col10\" class=\"data row8 col10\" >0.019</td>\n",
              "                        <td id=\"T_a692cfa2_f5a8_11eb_aee4_0242ac1c0002row8_col11\" class=\"data row8 col11\" >0.046</td>\n",
              "                        <td id=\"T_a692cfa2_f5a8_11eb_aee4_0242ac1c0002row8_col12\" class=\"data row8 col12\" >0.011</td>\n",
              "                        <td id=\"T_a692cfa2_f5a8_11eb_aee4_0242ac1c0002row8_col13\" class=\"data row8 col13\" >0.013</td>\n",
              "                        <td id=\"T_a692cfa2_f5a8_11eb_aee4_0242ac1c0002row8_col14\" class=\"data row8 col14\" >0.012</td>\n",
              "                        <td id=\"T_a692cfa2_f5a8_11eb_aee4_0242ac1c0002row8_col15\" class=\"data row8 col15\" >0.49</td>\n",
              "            </tr>\n",
              "            <tr>\n",
              "                        <th id=\"T_a692cfa2_f5a8_11eb_aee4_0242ac1c0002level0_row9\" class=\"row_heading level0 row9\" >SpecialDay</th>\n",
              "                        <td id=\"T_a692cfa2_f5a8_11eb_aee4_0242ac1c0002row9_col0\" class=\"data row9 col0\" >-0.095</td>\n",
              "                        <td id=\"T_a692cfa2_f5a8_11eb_aee4_0242ac1c0002row9_col1\" class=\"data row9 col1\" >-0.073</td>\n",
              "                        <td id=\"T_a692cfa2_f5a8_11eb_aee4_0242ac1c0002row9_col2\" class=\"data row9 col2\" >-0.048</td>\n",
              "                        <td id=\"T_a692cfa2_f5a8_11eb_aee4_0242ac1c0002row9_col3\" class=\"data row9 col3\" >-0.031</td>\n",
              "                        <td id=\"T_a692cfa2_f5a8_11eb_aee4_0242ac1c0002row9_col4\" class=\"data row9 col4\" >-0.024</td>\n",
              "                        <td id=\"T_a692cfa2_f5a8_11eb_aee4_0242ac1c0002row9_col5\" class=\"data row9 col5\" >-0.036</td>\n",
              "                        <td id=\"T_a692cfa2_f5a8_11eb_aee4_0242ac1c0002row9_col6\" class=\"data row9 col6\" >0.073</td>\n",
              "                        <td id=\"T_a692cfa2_f5a8_11eb_aee4_0242ac1c0002row9_col7\" class=\"data row9 col7\" >0.1</td>\n",
              "                        <td id=\"T_a692cfa2_f5a8_11eb_aee4_0242ac1c0002row9_col8\" class=\"data row9 col8\" >-0.064</td>\n",
              "                        <td id=\"T_a692cfa2_f5a8_11eb_aee4_0242ac1c0002row9_col9\" class=\"data row9 col9\" >1.0</td>\n",
              "                        <td id=\"T_a692cfa2_f5a8_11eb_aee4_0242ac1c0002row9_col10\" class=\"data row9 col10\" >0.013</td>\n",
              "                        <td id=\"T_a692cfa2_f5a8_11eb_aee4_0242ac1c0002row9_col11\" class=\"data row9 col11\" >0.0035</td>\n",
              "                        <td id=\"T_a692cfa2_f5a8_11eb_aee4_0242ac1c0002row9_col12\" class=\"data row9 col12\" >-0.016</td>\n",
              "                        <td id=\"T_a692cfa2_f5a8_11eb_aee4_0242ac1c0002row9_col13\" class=\"data row9 col13\" >0.052</td>\n",
              "                        <td id=\"T_a692cfa2_f5a8_11eb_aee4_0242ac1c0002row9_col14\" class=\"data row9 col14\" >-0.017</td>\n",
              "                        <td id=\"T_a692cfa2_f5a8_11eb_aee4_0242ac1c0002row9_col15\" class=\"data row9 col15\" >-0.082</td>\n",
              "            </tr>\n",
              "            <tr>\n",
              "                        <th id=\"T_a692cfa2_f5a8_11eb_aee4_0242ac1c0002level0_row10\" class=\"row_heading level0 row10\" >OperatingSystems</th>\n",
              "                        <td id=\"T_a692cfa2_f5a8_11eb_aee4_0242ac1c0002row10_col0\" class=\"data row10 col0\" >-0.0063</td>\n",
              "                        <td id=\"T_a692cfa2_f5a8_11eb_aee4_0242ac1c0002row10_col1\" class=\"data row10 col1\" >-0.0073</td>\n",
              "                        <td id=\"T_a692cfa2_f5a8_11eb_aee4_0242ac1c0002row10_col2\" class=\"data row10 col2\" >-0.0095</td>\n",
              "                        <td id=\"T_a692cfa2_f5a8_11eb_aee4_0242ac1c0002row10_col3\" class=\"data row10 col3\" >-0.0096</td>\n",
              "                        <td id=\"T_a692cfa2_f5a8_11eb_aee4_0242ac1c0002row10_col4\" class=\"data row10 col4\" >0.0043</td>\n",
              "                        <td id=\"T_a692cfa2_f5a8_11eb_aee4_0242ac1c0002row10_col5\" class=\"data row10 col5\" >0.003</td>\n",
              "                        <td id=\"T_a692cfa2_f5a8_11eb_aee4_0242ac1c0002row10_col6\" class=\"data row10 col6\" >0.024</td>\n",
              "                        <td id=\"T_a692cfa2_f5a8_11eb_aee4_0242ac1c0002row10_col7\" class=\"data row10 col7\" >0.015</td>\n",
              "                        <td id=\"T_a692cfa2_f5a8_11eb_aee4_0242ac1c0002row10_col8\" class=\"data row10 col8\" >0.019</td>\n",
              "                        <td id=\"T_a692cfa2_f5a8_11eb_aee4_0242ac1c0002row10_col9\" class=\"data row10 col9\" >0.013</td>\n",
              "                        <td id=\"T_a692cfa2_f5a8_11eb_aee4_0242ac1c0002row10_col10\" class=\"data row10 col10\" >1.0</td>\n",
              "                        <td id=\"T_a692cfa2_f5a8_11eb_aee4_0242ac1c0002row10_col11\" class=\"data row10 col11\" >0.22</td>\n",
              "                        <td id=\"T_a692cfa2_f5a8_11eb_aee4_0242ac1c0002row10_col12\" class=\"data row10 col12\" >0.077</td>\n",
              "                        <td id=\"T_a692cfa2_f5a8_11eb_aee4_0242ac1c0002row10_col13\" class=\"data row10 col13\" >0.19</td>\n",
              "                        <td id=\"T_a692cfa2_f5a8_11eb_aee4_0242ac1c0002row10_col14\" class=\"data row10 col14\" >0.00028</td>\n",
              "                        <td id=\"T_a692cfa2_f5a8_11eb_aee4_0242ac1c0002row10_col15\" class=\"data row10 col15\" >-0.015</td>\n",
              "            </tr>\n",
              "            <tr>\n",
              "                        <th id=\"T_a692cfa2_f5a8_11eb_aee4_0242ac1c0002level0_row11\" class=\"row_heading level0 row11\" >Browser</th>\n",
              "                        <td id=\"T_a692cfa2_f5a8_11eb_aee4_0242ac1c0002row11_col0\" class=\"data row11 col0\" >-0.025</td>\n",
              "                        <td id=\"T_a692cfa2_f5a8_11eb_aee4_0242ac1c0002row11_col1\" class=\"data row11 col1\" >-0.015</td>\n",
              "                        <td id=\"T_a692cfa2_f5a8_11eb_aee4_0242ac1c0002row11_col2\" class=\"data row11 col2\" >-0.038</td>\n",
              "                        <td id=\"T_a692cfa2_f5a8_11eb_aee4_0242ac1c0002row11_col3\" class=\"data row11 col3\" >-0.019</td>\n",
              "                        <td id=\"T_a692cfa2_f5a8_11eb_aee4_0242ac1c0002row11_col4\" class=\"data row11 col4\" >-0.013</td>\n",
              "                        <td id=\"T_a692cfa2_f5a8_11eb_aee4_0242ac1c0002row11_col5\" class=\"data row11 col5\" >-0.0074</td>\n",
              "                        <td id=\"T_a692cfa2_f5a8_11eb_aee4_0242ac1c0002row11_col6\" class=\"data row11 col6\" >-0.016</td>\n",
              "                        <td id=\"T_a692cfa2_f5a8_11eb_aee4_0242ac1c0002row11_col7\" class=\"data row11 col7\" >-0.0044</td>\n",
              "                        <td id=\"T_a692cfa2_f5a8_11eb_aee4_0242ac1c0002row11_col8\" class=\"data row11 col8\" >0.046</td>\n",
              "                        <td id=\"T_a692cfa2_f5a8_11eb_aee4_0242ac1c0002row11_col9\" class=\"data row11 col9\" >0.0035</td>\n",
              "                        <td id=\"T_a692cfa2_f5a8_11eb_aee4_0242ac1c0002row11_col10\" class=\"data row11 col10\" >0.22</td>\n",
              "                        <td id=\"T_a692cfa2_f5a8_11eb_aee4_0242ac1c0002row11_col11\" class=\"data row11 col11\" >1.0</td>\n",
              "                        <td id=\"T_a692cfa2_f5a8_11eb_aee4_0242ac1c0002row11_col12\" class=\"data row11 col12\" >0.097</td>\n",
              "                        <td id=\"T_a692cfa2_f5a8_11eb_aee4_0242ac1c0002row11_col13\" class=\"data row11 col13\" >0.11</td>\n",
              "                        <td id=\"T_a692cfa2_f5a8_11eb_aee4_0242ac1c0002row11_col14\" class=\"data row11 col14\" >-0.04</td>\n",
              "                        <td id=\"T_a692cfa2_f5a8_11eb_aee4_0242ac1c0002row11_col15\" class=\"data row11 col15\" >0.024</td>\n",
              "            </tr>\n",
              "            <tr>\n",
              "                        <th id=\"T_a692cfa2_f5a8_11eb_aee4_0242ac1c0002level0_row12\" class=\"row_heading level0 row12\" >Region</th>\n",
              "                        <td id=\"T_a692cfa2_f5a8_11eb_aee4_0242ac1c0002row12_col0\" class=\"data row12 col0\" >-0.0055</td>\n",
              "                        <td id=\"T_a692cfa2_f5a8_11eb_aee4_0242ac1c0002row12_col1\" class=\"data row12 col1\" >-0.0056</td>\n",
              "                        <td id=\"T_a692cfa2_f5a8_11eb_aee4_0242ac1c0002row12_col2\" class=\"data row12 col2\" >-0.029</td>\n",
              "                        <td id=\"T_a692cfa2_f5a8_11eb_aee4_0242ac1c0002row12_col3\" class=\"data row12 col3\" >-0.027</td>\n",
              "                        <td id=\"T_a692cfa2_f5a8_11eb_aee4_0242ac1c0002row12_col4\" class=\"data row12 col4\" >-0.038</td>\n",
              "                        <td id=\"T_a692cfa2_f5a8_11eb_aee4_0242ac1c0002row12_col5\" class=\"data row12 col5\" >-0.033</td>\n",
              "                        <td id=\"T_a692cfa2_f5a8_11eb_aee4_0242ac1c0002row12_col6\" class=\"data row12 col6\" >-0.0065</td>\n",
              "                        <td id=\"T_a692cfa2_f5a8_11eb_aee4_0242ac1c0002row12_col7\" class=\"data row12 col7\" >-0.0089</td>\n",
              "                        <td id=\"T_a692cfa2_f5a8_11eb_aee4_0242ac1c0002row12_col8\" class=\"data row12 col8\" >0.011</td>\n",
              "                        <td id=\"T_a692cfa2_f5a8_11eb_aee4_0242ac1c0002row12_col9\" class=\"data row12 col9\" >-0.016</td>\n",
              "                        <td id=\"T_a692cfa2_f5a8_11eb_aee4_0242ac1c0002row12_col10\" class=\"data row12 col10\" >0.077</td>\n",
              "                        <td id=\"T_a692cfa2_f5a8_11eb_aee4_0242ac1c0002row12_col11\" class=\"data row12 col11\" >0.097</td>\n",
              "                        <td id=\"T_a692cfa2_f5a8_11eb_aee4_0242ac1c0002row12_col12\" class=\"data row12 col12\" >1.0</td>\n",
              "                        <td id=\"T_a692cfa2_f5a8_11eb_aee4_0242ac1c0002row12_col13\" class=\"data row12 col13\" >0.048</td>\n",
              "                        <td id=\"T_a692cfa2_f5a8_11eb_aee4_0242ac1c0002row12_col14\" class=\"data row12 col14\" >-0.00069</td>\n",
              "                        <td id=\"T_a692cfa2_f5a8_11eb_aee4_0242ac1c0002row12_col15\" class=\"data row12 col15\" >-0.012</td>\n",
              "            </tr>\n",
              "            <tr>\n",
              "                        <th id=\"T_a692cfa2_f5a8_11eb_aee4_0242ac1c0002level0_row13\" class=\"row_heading level0 row13\" >TrafficType</th>\n",
              "                        <td id=\"T_a692cfa2_f5a8_11eb_aee4_0242ac1c0002row13_col0\" class=\"data row13 col0\" >-0.034</td>\n",
              "                        <td id=\"T_a692cfa2_f5a8_11eb_aee4_0242ac1c0002row13_col1\" class=\"data row13 col1\" >-0.014</td>\n",
              "                        <td id=\"T_a692cfa2_f5a8_11eb_aee4_0242ac1c0002row13_col2\" class=\"data row13 col2\" >-0.034</td>\n",
              "                        <td id=\"T_a692cfa2_f5a8_11eb_aee4_0242ac1c0002row13_col3\" class=\"data row13 col3\" >-0.025</td>\n",
              "                        <td id=\"T_a692cfa2_f5a8_11eb_aee4_0242ac1c0002row13_col4\" class=\"data row13 col4\" >-0.043</td>\n",
              "                        <td id=\"T_a692cfa2_f5a8_11eb_aee4_0242ac1c0002row13_col5\" class=\"data row13 col5\" >-0.036</td>\n",
              "                        <td id=\"T_a692cfa2_f5a8_11eb_aee4_0242ac1c0002row13_col6\" class=\"data row13 col6\" >0.078</td>\n",
              "                        <td id=\"T_a692cfa2_f5a8_11eb_aee4_0242ac1c0002row13_col7\" class=\"data row13 col7\" >0.079</td>\n",
              "                        <td id=\"T_a692cfa2_f5a8_11eb_aee4_0242ac1c0002row13_col8\" class=\"data row13 col8\" >0.013</td>\n",
              "                        <td id=\"T_a692cfa2_f5a8_11eb_aee4_0242ac1c0002row13_col9\" class=\"data row13 col9\" >0.052</td>\n",
              "                        <td id=\"T_a692cfa2_f5a8_11eb_aee4_0242ac1c0002row13_col10\" class=\"data row13 col10\" >0.19</td>\n",
              "                        <td id=\"T_a692cfa2_f5a8_11eb_aee4_0242ac1c0002row13_col11\" class=\"data row13 col11\" >0.11</td>\n",
              "                        <td id=\"T_a692cfa2_f5a8_11eb_aee4_0242ac1c0002row13_col12\" class=\"data row13 col12\" >0.048</td>\n",
              "                        <td id=\"T_a692cfa2_f5a8_11eb_aee4_0242ac1c0002row13_col13\" class=\"data row13 col13\" >1.0</td>\n",
              "                        <td id=\"T_a692cfa2_f5a8_11eb_aee4_0242ac1c0002row13_col14\" class=\"data row13 col14\" >-0.0022</td>\n",
              "                        <td id=\"T_a692cfa2_f5a8_11eb_aee4_0242ac1c0002row13_col15\" class=\"data row13 col15\" >-0.0051</td>\n",
              "            </tr>\n",
              "            <tr>\n",
              "                        <th id=\"T_a692cfa2_f5a8_11eb_aee4_0242ac1c0002level0_row14\" class=\"row_heading level0 row14\" >Weekend</th>\n",
              "                        <td id=\"T_a692cfa2_f5a8_11eb_aee4_0242ac1c0002row14_col0\" class=\"data row14 col0\" >0.026</td>\n",
              "                        <td id=\"T_a692cfa2_f5a8_11eb_aee4_0242ac1c0002row14_col1\" class=\"data row14 col1\" >0.015</td>\n",
              "                        <td id=\"T_a692cfa2_f5a8_11eb_aee4_0242ac1c0002row14_col2\" class=\"data row14 col2\" >0.036</td>\n",
              "                        <td id=\"T_a692cfa2_f5a8_11eb_aee4_0242ac1c0002row14_col3\" class=\"data row14 col3\" >0.024</td>\n",
              "                        <td id=\"T_a692cfa2_f5a8_11eb_aee4_0242ac1c0002row14_col4\" class=\"data row14 col4\" >0.016</td>\n",
              "                        <td id=\"T_a692cfa2_f5a8_11eb_aee4_0242ac1c0002row14_col5\" class=\"data row14 col5\" >0.0073</td>\n",
              "                        <td id=\"T_a692cfa2_f5a8_11eb_aee4_0242ac1c0002row14_col6\" class=\"data row14 col6\" >-0.047</td>\n",
              "                        <td id=\"T_a692cfa2_f5a8_11eb_aee4_0242ac1c0002row14_col7\" class=\"data row14 col7\" >-0.063</td>\n",
              "                        <td id=\"T_a692cfa2_f5a8_11eb_aee4_0242ac1c0002row14_col8\" class=\"data row14 col8\" >0.012</td>\n",
              "                        <td id=\"T_a692cfa2_f5a8_11eb_aee4_0242ac1c0002row14_col9\" class=\"data row14 col9\" >-0.017</td>\n",
              "                        <td id=\"T_a692cfa2_f5a8_11eb_aee4_0242ac1c0002row14_col10\" class=\"data row14 col10\" >0.00028</td>\n",
              "                        <td id=\"T_a692cfa2_f5a8_11eb_aee4_0242ac1c0002row14_col11\" class=\"data row14 col11\" >-0.04</td>\n",
              "                        <td id=\"T_a692cfa2_f5a8_11eb_aee4_0242ac1c0002row14_col12\" class=\"data row14 col12\" >-0.00069</td>\n",
              "                        <td id=\"T_a692cfa2_f5a8_11eb_aee4_0242ac1c0002row14_col13\" class=\"data row14 col13\" >-0.0022</td>\n",
              "                        <td id=\"T_a692cfa2_f5a8_11eb_aee4_0242ac1c0002row14_col14\" class=\"data row14 col14\" >1.0</td>\n",
              "                        <td id=\"T_a692cfa2_f5a8_11eb_aee4_0242ac1c0002row14_col15\" class=\"data row14 col15\" >0.029</td>\n",
              "            </tr>\n",
              "            <tr>\n",
              "                        <th id=\"T_a692cfa2_f5a8_11eb_aee4_0242ac1c0002level0_row15\" class=\"row_heading level0 row15\" >Revenue</th>\n",
              "                        <td id=\"T_a692cfa2_f5a8_11eb_aee4_0242ac1c0002row15_col0\" class=\"data row15 col0\" >0.14</td>\n",
              "                        <td id=\"T_a692cfa2_f5a8_11eb_aee4_0242ac1c0002row15_col1\" class=\"data row15 col1\" >0.094</td>\n",
              "                        <td id=\"T_a692cfa2_f5a8_11eb_aee4_0242ac1c0002row15_col2\" class=\"data row15 col2\" >0.095</td>\n",
              "                        <td id=\"T_a692cfa2_f5a8_11eb_aee4_0242ac1c0002row15_col3\" class=\"data row15 col3\" >0.07</td>\n",
              "                        <td id=\"T_a692cfa2_f5a8_11eb_aee4_0242ac1c0002row15_col4\" class=\"data row15 col4\" >0.16</td>\n",
              "                        <td id=\"T_a692cfa2_f5a8_11eb_aee4_0242ac1c0002row15_col5\" class=\"data row15 col5\" >0.15</td>\n",
              "                        <td id=\"T_a692cfa2_f5a8_11eb_aee4_0242ac1c0002row15_col6\" class=\"data row15 col6\" >-0.15</td>\n",
              "                        <td id=\"T_a692cfa2_f5a8_11eb_aee4_0242ac1c0002row15_col7\" class=\"data row15 col7\" >-0.21</td>\n",
              "                        <td id=\"T_a692cfa2_f5a8_11eb_aee4_0242ac1c0002row15_col8\" class=\"data row15 col8\" >0.49</td>\n",
              "                        <td id=\"T_a692cfa2_f5a8_11eb_aee4_0242ac1c0002row15_col9\" class=\"data row15 col9\" >-0.082</td>\n",
              "                        <td id=\"T_a692cfa2_f5a8_11eb_aee4_0242ac1c0002row15_col10\" class=\"data row15 col10\" >-0.015</td>\n",
              "                        <td id=\"T_a692cfa2_f5a8_11eb_aee4_0242ac1c0002row15_col11\" class=\"data row15 col11\" >0.024</td>\n",
              "                        <td id=\"T_a692cfa2_f5a8_11eb_aee4_0242ac1c0002row15_col12\" class=\"data row15 col12\" >-0.012</td>\n",
              "                        <td id=\"T_a692cfa2_f5a8_11eb_aee4_0242ac1c0002row15_col13\" class=\"data row15 col13\" >-0.0051</td>\n",
              "                        <td id=\"T_a692cfa2_f5a8_11eb_aee4_0242ac1c0002row15_col14\" class=\"data row15 col14\" >0.029</td>\n",
              "                        <td id=\"T_a692cfa2_f5a8_11eb_aee4_0242ac1c0002row15_col15\" class=\"data row15 col15\" >1.0</td>\n",
              "            </tr>\n",
              "    </tbody></table>"
            ],
            "text/plain": [
              "<pandas.io.formats.style.Styler at 0x7fa35a19e510>"
            ]
          },
          "metadata": {
            "tags": []
          },
          "execution_count": 19
        }
      ]
    },
    {
      "cell_type": "code",
      "metadata": {
        "colab": {
          "base_uri": "https://localhost:8080/"
        },
        "id": "5_vH36fQi0CL",
        "outputId": "42624d85-9e0e-4edc-e94d-162b80c1fe2d"
      },
      "source": [
        "dataset_corr = dataset.corr()\n",
        "print('BounceRates-ExitRates Correlation:', dataset_corr.loc['BounceRates', 'ExitRates'])\n",
        "print('Revenue-PageValues Correlation:', dataset_corr.loc['Revenue', 'PageValues'])\n",
        "print('TrafficType-Weekend Correlation:', dataset_corr.loc['TrafficType', 'Weekend'])"
      ],
      "execution_count": 21,
      "outputs": [
        {
          "output_type": "stream",
          "text": [
            "BounceRates-ExitRates Correlation: 0.9130043961814553\n",
            "Revenue-PageValues Correlation: 0.49256929525114623\n",
            "TrafficType-Weekend Correlation: -0.0022212292430307825\n"
          ],
          "name": "stdout"
        }
      ]
    },
    {
      "cell_type": "markdown",
      "metadata": {
        "id": "lbDJkgIRsiyK"
      },
      "source": [
        "See data distribution of customers on Revenue"
      ]
    },
    {
      "cell_type": "code",
      "metadata": {
        "colab": {
          "base_uri": "https://localhost:8080/"
        },
        "id": "nJR2poZdi9qI",
        "outputId": "1e6be449-ab68-4ddf-8813-89d5b5858018"
      },
      "source": [
        "print('Distribusi Label (Revenue):')\n",
        "dataset['Revenue'].value_counts()"
      ],
      "execution_count": 17,
      "outputs": [
        {
          "output_type": "stream",
          "text": [
            "Distribusi Label (Revenue):\n"
          ],
          "name": "stdout"
        },
        {
          "output_type": "execute_result",
          "data": {
            "text/plain": [
              "False    10422\n",
              "True      1908\n",
              "Name: Revenue, dtype: int64"
            ]
          },
          "metadata": {
            "tags": []
          },
          "execution_count": 17
        }
      ]
    },
    {
      "cell_type": "code",
      "metadata": {
        "colab": {
          "base_uri": "https://localhost:8080/",
          "height": 430
        },
        "id": "dmbAWbeNsBEr",
        "outputId": "a0d67fbd-f8e3-4e43-b0cb-0cb86a31f673"
      },
      "source": [
        "#visualization of the distribution of customers on Revenue\n",
        "plt.rcParams['figure.figsize'] = (12,5)\n",
        "plt.subplot(1, 2, 1)\n",
        "sns.countplot(dataset['Revenue'], palette = 'pastel')\n",
        "plt.title('Buy or Not', fontsize = 20)\n",
        "plt.xlabel('Revenue or not', fontsize =14)\n",
        "plt.ylabel('count', fontsize = 14)"
      ],
      "execution_count": 24,
      "outputs": [
        {
          "output_type": "stream",
          "text": [
            "/usr/local/lib/python3.7/dist-packages/seaborn/_decorators.py:43: FutureWarning: Pass the following variable as a keyword arg: x. From version 0.12, the only valid positional argument will be `data`, and passing other arguments without an explicit keyword will result in an error or misinterpretation.\n",
            "  FutureWarning\n"
          ],
          "name": "stderr"
        },
        {
          "output_type": "execute_result",
          "data": {
            "text/plain": [
              "Text(0, 0.5, 'count')"
            ]
          },
          "metadata": {
            "tags": []
          },
          "execution_count": 24
        },
        {
          "output_type": "display_data",
          "data": {
            "image/png": "[encoded data removed]",
            "text/plain": [
              "<Figure size 864x360 with 1 Axes>"
            ]
          },
          "metadata": {
            "tags": [],
            "needs_background": "light"
          }
        }
      ]
    },
    {
      "cell_type": "markdown",
      "metadata": {
        "id": "bJkpR_UCu247"
      },
      "source": [
        "See distribution of customers on Weekend"
      ]
    },
    {
      "cell_type": "code",
      "metadata": {
        "colab": {
          "base_uri": "https://localhost:8080/",
          "height": 413
        },
        "id": "T2_T0VoPugql",
        "outputId": "21d63962-1633-4544-9d39-9930102197b3"
      },
      "source": [
        "#visualization the distribution of customers on Weekend\n",
        "plt.subplot(1, 2, 2)\n",
        "sns.countplot(dataset['Weekend'], palette = 'inferno')\n",
        "plt.title('Purchase on Weekends', fontsize = 20)\n",
        "plt.xlabel('Weekend or not', fontsize = 14)\n",
        "plt.ylabel('count', fontsize = 14)\n",
        "plt.show()"
      ],
      "execution_count": 26,
      "outputs": [
        {
          "output_type": "stream",
          "text": [
            "/usr/local/lib/python3.7/dist-packages/seaborn/_decorators.py:43: FutureWarning: Pass the following variable as a keyword arg: x. From version 0.12, the only valid positional argument will be `data`, and passing other arguments without an explicit keyword will result in an error or misinterpretation.\n",
            "  FutureWarning\n"
          ],
          "name": "stderr"
        },
        {
          "output_type": "display_data",
          "data": {
            "image/png": "[encoded data removed]",
            "text/plain": [
              "<Figure size 864x360 with 1 Axes>"
            ]
          },
          "metadata": {
            "tags": [],
            "needs_background": "light"
          }
        }
      ]
    },
    {
      "cell_type": "code",
      "metadata": {
        "colab": {
          "base_uri": "https://localhost:8080/",
          "height": 359
        },
        "id": "ExWvz0QevtSy",
        "outputId": "e4e7fd5a-761d-429b-bcbd-e7ae27df190c"
      },
      "source": [
        "# visualizing the distribution of customers around the Region\n",
        "plt.hist(dataset['Region'], color = 'lightblue')\n",
        "plt.title('Distribution of Customers', fontsize = 20)\n",
        "plt.xlabel('Region Codes', fontsize = 14)\n",
        "plt.ylabel('Count Users', fontsize = 14)\n",
        "plt.show()"
      ],
      "execution_count": 27,
      "outputs": [
        {
          "output_type": "display_data",
          "data": {
            "image/png": "[encoded data removed]",
            "text/plain": [
              "<Figure size 864x360 with 1 Axes>"
            ]
          },
          "metadata": {
            "tags": [],
            "needs_background": "light"
          }
        }
      ]
    },
    {
      "cell_type": "markdown",
      "metadata": {
        "id": "Uk5bw9yeHR19"
      },
      "source": [
        "# Data Pre-Processing"
      ]
    },
    {
      "cell_type": "markdown",
      "metadata": {
        "id": "LVXylxZFwaxq"
      },
      "source": [
        "Check missing values"
      ]
    },
    {
      "cell_type": "code",
      "metadata": {
        "colab": {
          "base_uri": "https://localhost:8080/"
        },
        "id": "xqI7FkV4wCen",
        "outputId": "7f9bdcb2-b787-4456-99f1-11a14e8f0cc3"
      },
      "source": [
        "#checking missing value for each feature  \n",
        "print('Checking missing value for each feature:')\n",
        "print(dataset.isnull().sum())\n",
        "#counting total missing value\n",
        "print('Counting total missing value:')\n",
        "print(dataset.isnull().sum().sum())"
      ],
      "execution_count": 34,
      "outputs": [
        {
          "output_type": "stream",
          "text": [
            "Checking missing value for each feature:\n",
            "Administrative             0\n",
            "Administrative_Duration    0\n",
            "Informational              0\n",
            "Informational_Duration     0\n",
            "ProductRelated             0\n",
            "ProductRelated_Duration    0\n",
            "BounceRates                0\n",
            "ExitRates                  0\n",
            "PageValues                 0\n",
            "SpecialDay                 0\n",
            "Month                      0\n",
            "OperatingSystems           0\n",
            "Browser                    0\n",
            "Region                     0\n",
            "TrafficType                0\n",
            "VisitorType                0\n",
            "Weekend                    0\n",
            "Revenue                    0\n",
            "dtype: int64\n",
            "Counting total missing value:\n",
            "0\n"
          ],
          "name": "stdout"
        }
      ]
    },
    {
      "cell_type": "markdown",
      "metadata": {
        "id": "DQFow6Fc17Gd"
      },
      "source": [
        "Scaling data with MinMax"
      ]
    },
    {
      "cell_type": "code",
      "metadata": {
        "colab": {
          "base_uri": "https://localhost:8080/"
        },
        "id": "R5wxBf0VxsTd",
        "outputId": "5c006a0c-baa5-47a5-b5bc-5a5a1429a7fe"
      },
      "source": [
        "#list all the feature that need to be scaled  \n",
        "scaling_column = ['Administrative',\n",
        "                  'Administrative_Duration',\n",
        "                  'Informational',\n",
        "                  'Informational_Duration',\n",
        "                  'ProductRelated',\n",
        "                  'ProductRelated_Duration',\n",
        "                  'BounceRates',\n",
        "                  'ExitRates',\n",
        "                  'PageValues',\n",
        "                  'SpecialDay',\n",
        "                  'OperatingSystems',\n",
        "                  'Browser',\n",
        "                  'Region',\n",
        "                  'TrafficType']\n",
        "\n",
        "#define MinMaxScaler as scaler  \n",
        "scaler = MinMaxScaler()\n",
        "#apply fit_transfrom to scale selected feature  \n",
        "dataset[scaling_column] = scaler.fit_transform(dataset[scaling_column])\n",
        "#cheking min and max value of the scaling_column\n",
        "print(dataset[scaling_column].describe().T[['min','max']])"
      ],
      "execution_count": 69,
      "outputs": [
        {
          "output_type": "stream",
          "text": [
            "                         min  max\n",
            "Administrative           0.0  1.0\n",
            "Administrative_Duration  0.0  1.0\n",
            "Informational            0.0  1.0\n",
            "Informational_Duration   0.0  1.0\n",
            "ProductRelated           0.0  1.0\n",
            "ProductRelated_Duration  0.0  1.0\n",
            "BounceRates              0.0  1.0\n",
            "ExitRates                0.0  1.0\n",
            "PageValues               0.0  1.0\n",
            "SpecialDay               0.0  1.0\n",
            "OperatingSystems         0.0  1.0\n",
            "Browser                  0.0  1.0\n",
            "Region                   0.0  1.0\n",
            "TrafficType              0.0  1.0\n"
          ],
          "name": "stdout"
        }
      ]
    },
    {
      "cell_type": "markdown",
      "metadata": {
        "id": "nSSDX7tNFV8v"
      },
      "source": [
        "Convert string columns to numeric"
      ]
    },
    {
      "cell_type": "code",
      "metadata": {
        "colab": {
          "base_uri": "https://localhost:8080/"
        },
        "id": "qcakNzqbFTVR",
        "outputId": "cd9c225c-d8e8-4bb3-8c93-c31ebfe91510"
      },
      "source": [
        "#convert feature/column 'Month'\n",
        "LE = LabelEncoder()\n",
        "dataset['Month'] = LE.fit_transform(dataset['Month'])\n",
        "print(LE.classes_)\n",
        "print(np.sort(dataset['Month'].unique()))"
      ],
      "execution_count": 70,
      "outputs": [
        {
          "output_type": "stream",
          "text": [
            "['Aug' 'Dec' 'Feb' 'Jul' 'June' 'Mar' 'May' 'Nov' 'Oct' 'Sep']\n",
            "[0 1 2 3 4 5 6 7 8 9]\n"
          ],
          "name": "stdout"
        }
      ]
    },
    {
      "cell_type": "code",
      "metadata": {
        "colab": {
          "base_uri": "https://localhost:8080/"
        },
        "id": "vKM2mcSaHnlm",
        "outputId": "f5294e5d-8c6f-4001-bf33-efa76080c7f1"
      },
      "source": [
        "#convert feature/column 'Weekend'\n",
        "LE = LabelEncoder()\n",
        "dataset['Weekend'] = LE.fit_transform(dataset['Weekend'])\n",
        "print(LE.classes_)\n",
        "print(np.sort(dataset['Weekend'].unique()))"
      ],
      "execution_count": 73,
      "outputs": [
        {
          "output_type": "stream",
          "text": [
            "[False  True]\n",
            "[0 1]\n"
          ],
          "name": "stdout"
        }
      ]
    },
    {
      "cell_type": "code",
      "metadata": {
        "colab": {
          "base_uri": "https://localhost:8080/"
        },
        "id": "mx4BBK7EFm10",
        "outputId": "a5ac881d-67cb-4db6-a099-3c38d672f5f5"
      },
      "source": [
        "#convert feature/column 'VisitorType'\n",
        "LE = LabelEncoder()\n",
        "dataset['VisitorType'] = LE.fit_transform(dataset['VisitorType'])\n",
        "print(LE.classes_)\n",
        "print(np.sort(dataset['VisitorType'].unique()))"
      ],
      "execution_count": 72,
      "outputs": [
        {
          "output_type": "stream",
          "text": [
            "[0 1 2]\n",
            "[0 1 2]\n"
          ],
          "name": "stdout"
        }
      ]
    },
    {
      "cell_type": "code",
      "metadata": {
        "colab": {
          "base_uri": "https://localhost:8080/",
          "height": 224
        },
        "id": "G0gFtGYFH7ir",
        "outputId": "e63bc368-1d30-4ceb-e489-b853c566ddb8"
      },
      "source": [
        "dataset.head()"
      ],
      "execution_count": 74,
      "outputs": [
        {
          "output_type": "execute_result",
          "data": {
            "text/html": [
              "<div>\n",
              "<style scoped>\n",
              "    .dataframe tbody tr th:only-of-type {\n",
              "        vertical-align: middle;\n",
              "    }\n",
              "\n",
              "    .dataframe tbody tr th {\n",
              "        vertical-align: top;\n",
              "    }\n",
              "\n",
              "    .dataframe thead th {\n",
              "        text-align: right;\n",
              "    }\n",
              "</style>\n",
              "<table border=\"1\" class=\"dataframe\">\n",
              "  <thead>\n",
              "    <tr style=\"text-align: right;\">\n",
              "      <th></th>\n",
              "      <th>Administrative</th>\n",
              "      <th>Administrative_Duration</th>\n",
              "      <th>Informational</th>\n",
              "      <th>Informational_Duration</th>\n",
              "      <th>ProductRelated</th>\n",
              "      <th>ProductRelated_Duration</th>\n",
              "      <th>BounceRates</th>\n",
              "      <th>ExitRates</th>\n",
              "      <th>PageValues</th>\n",
              "      <th>SpecialDay</th>\n",
              "      <th>Month</th>\n",
              "      <th>OperatingSystems</th>\n",
              "      <th>Browser</th>\n",
              "      <th>Region</th>\n",
              "      <th>TrafficType</th>\n",
              "      <th>VisitorType</th>\n",
              "      <th>Weekend</th>\n",
              "      <th>Revenue</th>\n",
              "    </tr>\n",
              "  </thead>\n",
              "  <tbody>\n",
              "    <tr>\n",
              "      <th>0</th>\n",
              "      <td>0.0</td>\n",
              "      <td>0.0</td>\n",
              "      <td>0.0</td>\n",
              "      <td>0.0</td>\n",
              "      <td>0.001418</td>\n",
              "      <td>0.000000</td>\n",
              "      <td>1.00</td>\n",
              "      <td>1.00</td>\n",
              "      <td>0.0</td>\n",
              "      <td>0.0</td>\n",
              "      <td>2</td>\n",
              "      <td>0.000000</td>\n",
              "      <td>0.000000</td>\n",
              "      <td>0.000</td>\n",
              "      <td>0.000000</td>\n",
              "      <td>2</td>\n",
              "      <td>0</td>\n",
              "      <td>False</td>\n",
              "    </tr>\n",
              "    <tr>\n",
              "      <th>1</th>\n",
              "      <td>0.0</td>\n",
              "      <td>0.0</td>\n",
              "      <td>0.0</td>\n",
              "      <td>0.0</td>\n",
              "      <td>0.002837</td>\n",
              "      <td>0.001000</td>\n",
              "      <td>0.00</td>\n",
              "      <td>0.50</td>\n",
              "      <td>0.0</td>\n",
              "      <td>0.0</td>\n",
              "      <td>2</td>\n",
              "      <td>0.142857</td>\n",
              "      <td>0.083333</td>\n",
              "      <td>0.000</td>\n",
              "      <td>0.052632</td>\n",
              "      <td>2</td>\n",
              "      <td>0</td>\n",
              "      <td>False</td>\n",
              "    </tr>\n",
              "    <tr>\n",
              "      <th>2</th>\n",
              "      <td>0.0</td>\n",
              "      <td>0.0</td>\n",
              "      <td>0.0</td>\n",
              "      <td>0.0</td>\n",
              "      <td>0.001418</td>\n",
              "      <td>0.000000</td>\n",
              "      <td>1.00</td>\n",
              "      <td>1.00</td>\n",
              "      <td>0.0</td>\n",
              "      <td>0.0</td>\n",
              "      <td>2</td>\n",
              "      <td>0.428571</td>\n",
              "      <td>0.000000</td>\n",
              "      <td>1.000</td>\n",
              "      <td>0.105263</td>\n",
              "      <td>2</td>\n",
              "      <td>0</td>\n",
              "      <td>False</td>\n",
              "    </tr>\n",
              "    <tr>\n",
              "      <th>3</th>\n",
              "      <td>0.0</td>\n",
              "      <td>0.0</td>\n",
              "      <td>0.0</td>\n",
              "      <td>0.0</td>\n",
              "      <td>0.002837</td>\n",
              "      <td>0.000042</td>\n",
              "      <td>0.25</td>\n",
              "      <td>0.70</td>\n",
              "      <td>0.0</td>\n",
              "      <td>0.0</td>\n",
              "      <td>2</td>\n",
              "      <td>0.285714</td>\n",
              "      <td>0.083333</td>\n",
              "      <td>0.125</td>\n",
              "      <td>0.157895</td>\n",
              "      <td>2</td>\n",
              "      <td>0</td>\n",
              "      <td>False</td>\n",
              "    </tr>\n",
              "    <tr>\n",
              "      <th>4</th>\n",
              "      <td>0.0</td>\n",
              "      <td>0.0</td>\n",
              "      <td>0.0</td>\n",
              "      <td>0.0</td>\n",
              "      <td>0.014184</td>\n",
              "      <td>0.009809</td>\n",
              "      <td>0.10</td>\n",
              "      <td>0.25</td>\n",
              "      <td>0.0</td>\n",
              "      <td>0.0</td>\n",
              "      <td>2</td>\n",
              "      <td>0.285714</td>\n",
              "      <td>0.166667</td>\n",
              "      <td>0.000</td>\n",
              "      <td>0.157895</td>\n",
              "      <td>2</td>\n",
              "      <td>1</td>\n",
              "      <td>False</td>\n",
              "    </tr>\n",
              "  </tbody>\n",
              "</table>\n",
              "</div>"
            ],
            "text/plain": [
              "   Administrative  Administrative_Duration  ...  Weekend  Revenue\n",
              "0             0.0                      0.0  ...        0    False\n",
              "1             0.0                      0.0  ...        0    False\n",
              "2             0.0                      0.0  ...        0    False\n",
              "3             0.0                      0.0  ...        0    False\n",
              "4             0.0                      0.0  ...        1    False\n",
              "\n",
              "[5 rows x 18 columns]"
            ]
          },
          "metadata": {
            "tags": []
          },
          "execution_count": 74
        }
      ]
    },
    {
      "cell_type": "markdown",
      "metadata": {
        "id": "jv6g5njjGrjY"
      },
      "source": [
        "# Data Modelling"
      ]
    },
    {
      "cell_type": "markdown",
      "metadata": {
        "id": "Sr85AkMxI0qc"
      },
      "source": [
        "Separate Revenue from dataset"
      ]
    },
    {
      "cell_type": "code",
      "metadata": {
        "colab": {
          "base_uri": "https://localhost:8080/"
        },
        "id": "vE4BTj0UGwHb",
        "outputId": "49dc9d07-a054-449a-eb57-80d10c0297c7"
      },
      "source": [
        "#removing the target column Revenue from dataset and assigning to X\n",
        "X = dataset.drop(['Revenue'], axis=1)\n",
        "#assigning the target column Revenue to y\n",
        "y = dataset['Revenue']\n",
        "#checking the shapes\n",
        "print(\"Shape of X:\", X.shape)\n",
        "print(\"Shape of y:\", y.shape)"
      ],
      "execution_count": 81,
      "outputs": [
        {
          "output_type": "stream",
          "text": [
            "Shape of X: (12330, 17)\n",
            "Shape of y: (12330,)\n"
          ],
          "name": "stdout"
        }
      ]
    },
    {
      "cell_type": "markdown",
      "metadata": {
        "id": "jX5txVu0KVCi"
      },
      "source": [
        "Splitting dataset into train (80%) and test (20%) dataset"
      ]
    },
    {
      "cell_type": "code",
      "metadata": {
        "colab": {
          "base_uri": "https://localhost:8080/"
        },
        "id": "66zWmB8JJ55m",
        "outputId": "8bc7448d-4f77-4b1a-e618-556c2bd931e5"
      },
      "source": [
        "# splitting the X, and y\n",
        "X_train, X_test, y_train, y_test = train_test_split(X, y, test_size=0.2, random_state=0)\n",
        "# checking the shapes\n",
        "print(\"Shape of X_train:\", X_train.shape)\n",
        "print(\"Shape of y_train:\", y_train.shape)\n",
        "print(\"Shape of X_test:\", X_test.shape)\n",
        "print(\"Shape of y_test:\", y_test.shape)"
      ],
      "execution_count": 80,
      "outputs": [
        {
          "output_type": "stream",
          "text": [
            "Shape of X_train: (9864, 17)\n",
            "Shape of y_train: (9864,)\n",
            "Shape of X_test: (2466, 17)\n",
            "Shape of y_test: (2466,)\n"
          ],
          "name": "stdout"
        }
      ]
    },
    {
      "cell_type": "markdown",
      "metadata": {
        "id": "UEnsmAPEMsfD"
      },
      "source": [
        "# Train & Test Model with Decission Tree: Classification"
      ]
    },
    {
      "cell_type": "code",
      "metadata": {
        "id": "P18PvE3yMKoz"
      },
      "source": [
        "#call the classifier\n",
        "destree = DecisionTreeClassifier()\n",
        "#fit the classifier to the training data\n",
        "destree = destree.fit(X_train, y_train)"
      ],
      "execution_count": 118,
      "outputs": []
    },
    {
      "cell_type": "markdown",
      "metadata": {
        "id": "OeIGFwYrNiMs"
      },
      "source": [
        "Apply classifier into testing data to predict training data"
      ]
    },
    {
      "cell_type": "code",
      "metadata": {
        "colab": {
          "base_uri": "https://localhost:8080/"
        },
        "id": "2CSW1aNcNSg3",
        "outputId": "e962a821-54ba-47dc-97be-efafd037cc09"
      },
      "source": [
        "#predict training model\n",
        "y_pred = destree.predict(X_test)\n",
        "print(y_pred.shape)"
      ],
      "execution_count": 119,
      "outputs": [
        {
          "output_type": "stream",
          "text": [
            "(2466,)\n"
          ],
          "name": "stdout"
        }
      ]
    },
    {
      "cell_type": "markdown",
      "metadata": {
        "id": "XlqJ7EfGYHHR"
      },
      "source": [
        "Evaluate model performance"
      ]
    },
    {
      "cell_type": "code",
      "metadata": {
        "colab": {
          "base_uri": "https://localhost:8080/"
        },
        "id": "CsgQb_MOyeNt",
        "outputId": "40e0b00a-9101-4865-c8d9-4bd2b7e097ea"
      },
      "source": [
        "print('Training Accuracy :', destree.score(X_train, y_train))\n",
        "print('Testing Accuracy :', destree.score(X_test, y_test))"
      ],
      "execution_count": 121,
      "outputs": [
        {
          "output_type": "stream",
          "text": [
            "Training Accuracy : 1.0\n",
            "Testing Accuracy : 0.8629359286293593\n"
          ],
          "name": "stdout"
        }
      ]
    },
    {
      "cell_type": "markdown",
      "metadata": {
        "id": "T7_mLR_IPwXg"
      },
      "source": [
        "![confusion-matrix.png](data:image/png;base64,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)\n",
        "\n",
        "Revenue = [{False : 0, True : 1}]\n",
        "\n",
        "True Positive (TP): If user is predicted to buy (1), and actually buys (1)\n",
        "\n",
        "True Negative (FN): If user is predited to not buy (0), but actually buys (1)\n",
        "\n",
        "False Positive (FP): If user is predicted to buy (1), but actually doesn't buy (0).\n",
        "\n",
        "False Negatif (TN): If user is predicted to not buy (0), and actually doesn't buy (0)."
      ]
    },
    {
      "cell_type": "code",
      "metadata": {
        "colab": {
          "base_uri": "https://localhost:8080/"
        },
        "id": "j11KYWRoYOr4",
        "outputId": "29294271-3c92-440d-d96f-f1e013bb2aa4"
      },
      "source": [
        "print('Confusion matrix:')\n",
        "cm = confusion_matrix(y_test, y_pred)\n",
        "print(cm)"
      ],
      "execution_count": 122,
      "outputs": [
        {
          "output_type": "stream",
          "text": [
            "Confusion matrix:\n",
            "[[1894  150]\n",
            " [ 188  234]]\n"
          ],
          "name": "stdout"
        }
      ]
    },
    {
      "cell_type": "markdown",
      "metadata": {
        "id": "FL6mV75fY57j"
      },
      "source": [
        "Based on confusion matrix, we can measure metrics, as follow:\n",
        "\n",
        "Accuracy = (TP+TN ) / (TP+FP+FN+TN)\n",
        "\n",
        "Precision = (TP) / (TP+FP)\n",
        "\n",
        "Recall = (TP) / (TP+FN)\n",
        "\n",
        "F1 Score = 2 x (Recall x Precission) / (Recall + Precission)\n",
        "\n",
        "We don't need to calculate this manually, just use `classification_report()` to see the metrics."
      ]
    },
    {
      "cell_type": "code",
      "metadata": {
        "colab": {
          "base_uri": "https://localhost:8080/"
        },
        "id": "dn8I_lA6YAML",
        "outputId": "24b8fd68-38fe-42fc-9306-6998cf498350"
      },
      "source": [
        "# classification report\n",
        "print('Classification report:')\n",
        "cr = classification_report(y_test, y_pred)\n",
        "print(cr)"
      ],
      "execution_count": 123,
      "outputs": [
        {
          "output_type": "stream",
          "text": [
            "Classification report:\n",
            "              precision    recall  f1-score   support\n",
            "\n",
            "       False       0.91      0.93      0.92      2044\n",
            "        True       0.61      0.55      0.58       422\n",
            "\n",
            "    accuracy                           0.86      2466\n",
            "   macro avg       0.76      0.74      0.75      2466\n",
            "weighted avg       0.86      0.86      0.86      2466\n",
            "\n"
          ],
          "name": "stdout"
        }
      ]
    },
    {
      "cell_type": "markdown",
      "metadata": {
        "id": "xzCLqVT_gbCk"
      },
      "source": [
        "**Precision** tells us how many of the correctly predicted cases actually turned out to be positive. Precision is a useful metric in cases where False Positive is a higher concern than False Negative.\n",
        "\n",
        "**Recall** tells us how many of the actual positive cases we were able to predict correctly with our model. Recall is a useful metric in cases where False Negative trumps False Positive.\n",
        "\n",
        "**F1-score** is a harmonic mean of Precision and Recall, and so it gives a combined idea about these two metrics. It is maximum when Precision is equal to Recall.\n",
        "\n",
        "If dataset has a balanced amount of False Negative and False Positive data (symmetric), then we can use Accuracy, but if it is not balanced, then we need to use F1-Score."
      ]
    },
    {
      "cell_type": "markdown",
      "metadata": {
        "id": "0Rshsz8plMzB"
      },
      "source": [
        "Conclusion:\n",
        "**Recall** and **F1-scores** values are small for class `True` (buy) and quite high for class `False` (do not buy) indicate that the model tends to misclassify customers as not buying."
      ]
    },
    {
      "cell_type": "markdown",
      "metadata": {
        "id": "nrFwDs_snUGl"
      },
      "source": [
        "# Train & Test Model with Logistic Regression: Classification"
      ]
    },
    {
      "cell_type": "code",
      "metadata": {
        "colab": {
          "base_uri": "https://localhost:8080/"
        },
        "id": "rgsVbooDmyle",
        "outputId": "a0b76d44-2b8d-4d47-8488-ef5d5800fd25"
      },
      "source": [
        "#call the classifier\n",
        "logreg = LogisticRegression()\n",
        "#fit the classifier to the training data  \n",
        "logreg = logreg.fit(X_train, y_train)"
      ],
      "execution_count": 125,
      "outputs": [
        {
          "output_type": "stream",
          "text": [
            "/usr/local/lib/python3.7/dist-packages/sklearn/linear_model/_logistic.py:940: ConvergenceWarning: lbfgs failed to converge (status=1):\n",
            "STOP: TOTAL NO. of ITERATIONS REACHED LIMIT.\n",
            "\n",
            "Increase the number of iterations (max_iter) or scale the data as shown in:\n",
            "    https://scikit-learn.org/stable/modules/preprocessing.html\n",
            "Please also refer to the documentation for alternative solver options:\n",
            "    https://scikit-learn.org/stable/modules/linear_model.html#logistic-regression\n",
            "  extra_warning_msg=_LOGISTIC_SOLVER_CONVERGENCE_MSG)\n"
          ],
          "name": "stderr"
        }
      ]
    },
    {
      "cell_type": "markdown",
      "metadata": {
        "id": "90OGDOJHwZB-"
      },
      "source": [
        "Apply classifier into testing data to predict training data"
      ]
    },
    {
      "cell_type": "code",
      "metadata": {
        "colab": {
          "base_uri": "https://localhost:8080/"
        },
        "id": "ZKr9qR3tn_pl",
        "outputId": "3e40f6e3-40ed-4db8-ad29-6b7eee38eb63"
      },
      "source": [
        "#predict testing model\n",
        "y_pred = logreg.predict(X_test)\n",
        "print(y_pred.shape)"
      ],
      "execution_count": 126,
      "outputs": [
        {
          "output_type": "stream",
          "text": [
            "(2466,)\n"
          ],
          "name": "stdout"
        }
      ]
    },
    {
      "cell_type": "markdown",
      "metadata": {
        "id": "pyj5Ur7hog57"
      },
      "source": [
        "Evaluate model performance"
      ]
    },
    {
      "cell_type": "code",
      "metadata": {
        "colab": {
          "base_uri": "https://localhost:8080/"
        },
        "id": "gVaRBJxuoKrC",
        "outputId": "a0c1f798-0dc2-4786-fa80-dd2afc5cf171"
      },
      "source": [
        "print('Training Accuracy :', logreg.score(X_train, y_train))  \n",
        "print('Testing Accuracy :', logreg.score(X_test, y_test))"
      ],
      "execution_count": 130,
      "outputs": [
        {
          "output_type": "stream",
          "text": [
            "Training Accuracy : 0.880271695052717\n",
            "Testing Accuracy : 0.856853203568532\n"
          ],
          "name": "stdout"
        }
      ]
    },
    {
      "cell_type": "markdown",
      "metadata": {
        "id": "2Ba5Mn7iomP7"
      },
      "source": [
        "Confusion matrix"
      ]
    },
    {
      "cell_type": "code",
      "metadata": {
        "colab": {
          "base_uri": "https://localhost:8080/"
        },
        "id": "D7HWn5AfoPSy",
        "outputId": "b8ab129f-7bb5-4ee4-9cf3-c6967984ff9f"
      },
      "source": [
        "print('Confusion matrix')  \n",
        "cm = confusion_matrix(y_test, y_pred)\n",
        "print(cm)"
      ],
      "execution_count": 131,
      "outputs": [
        {
          "output_type": "stream",
          "text": [
            "Confusion matrix\n",
            "[[2010   34]\n",
            " [ 319  103]]\n"
          ],
          "name": "stdout"
        }
      ]
    },
    {
      "cell_type": "markdown",
      "metadata": {
        "id": "6TPp182poss3"
      },
      "source": [
        "Classification report"
      ]
    },
    {
      "cell_type": "code",
      "metadata": {
        "colab": {
          "base_uri": "https://localhost:8080/"
        },
        "id": "f1HACQyooRK8",
        "outputId": "d891623a-f11d-4440-d898-33fdcf32cb85"
      },
      "source": [
        "print('Classification report')  \n",
        "cr = classification_report(y_test, y_pred)  \n",
        "print(cr)"
      ],
      "execution_count": 132,
      "outputs": [
        {
          "output_type": "stream",
          "text": [
            "Classification report\n",
            "              precision    recall  f1-score   support\n",
            "\n",
            "       False       0.86      0.98      0.92      2044\n",
            "        True       0.75      0.24      0.37       422\n",
            "\n",
            "    accuracy                           0.86      2466\n",
            "   macro avg       0.81      0.61      0.64      2466\n",
            "weighted avg       0.84      0.86      0.83      2466\n",
            "\n"
          ],
          "name": "stdout"
        }
      ]
    },
    {
      "cell_type": "markdown",
      "metadata": {
        "id": "FbIpdCGTtWsl"
      },
      "source": [
        "# Train & Test Model with Random Forest: Classification"
      ]
    },
    {
      "cell_type": "code",
      "metadata": {
        "id": "udpL_4Ykr7zw"
      },
      "source": [
        "#call classifier\n",
        "ranfost = RandomForestClassifier(n_estimators = 30,max_depth = 10,random_state = 101)\n",
        "#fit the classifier to the training data\n",
        "ranfost = ranfost.fit(X_train,y_train)"
      ],
      "execution_count": 133,
      "outputs": []
    },
    {
      "cell_type": "markdown",
      "metadata": {
        "id": "AkFVgVcRxC-x"
      },
      "source": [
        "Apply classifier into testing data to predict training data"
      ]
    },
    {
      "cell_type": "code",
      "metadata": {
        "colab": {
          "base_uri": "https://localhost:8080/"
        },
        "id": "g8cSM16avrqa",
        "outputId": "b3abf954-7edb-4aee-b439-1f70de519932"
      },
      "source": [
        "#predict testing model\n",
        "y_pred = ranfost.predict(X_test)\n",
        "print(y_pred.shape)"
      ],
      "execution_count": 137,
      "outputs": [
        {
          "output_type": "stream",
          "text": [
            "(2466,)\n"
          ],
          "name": "stdout"
        }
      ]
    },
    {
      "cell_type": "markdown",
      "metadata": {
        "id": "o39e_1Ie0euJ"
      },
      "source": [
        "Evaluate model performance"
      ]
    },
    {
      "cell_type": "code",
      "metadata": {
        "colab": {
          "base_uri": "https://localhost:8080/"
        },
        "id": "PK9oYvOGxv2S",
        "outputId": "2827b233-8b7b-40e3-a587-8022bf578850"
      },
      "source": [
        "print('Training Accuracy :', ranfost.score(X_train, y_train))  \n",
        "print('Testing Accuracy :', ranfost.score(X_test, y_test))  "
      ],
      "execution_count": 138,
      "outputs": [
        {
          "output_type": "stream",
          "text": [
            "Training Accuracy : 0.9516423357664233\n",
            "Testing Accuracy : 0.8937550689375506\n"
          ],
          "name": "stdout"
        }
      ]
    },
    {
      "cell_type": "markdown",
      "metadata": {
        "id": "Mjy7lQnp2us_"
      },
      "source": [
        "Confusion matrix"
      ]
    },
    {
      "cell_type": "code",
      "metadata": {
        "colab": {
          "base_uri": "https://localhost:8080/"
        },
        "id": "IEl_qyqq1lu3",
        "outputId": "5cd21e4b-b43d-40f2-96aa-7e88e33e5e40"
      },
      "source": [
        "print('Confusion matrix')  \n",
        "cm = confusion_matrix(y_test, y_pred)\n",
        "print(cm)"
      ],
      "execution_count": 139,
      "outputs": [
        {
          "output_type": "stream",
          "text": [
            "Confusion matrix\n",
            "[[1976   68]\n",
            " [ 194  228]]\n"
          ],
          "name": "stdout"
        }
      ]
    },
    {
      "cell_type": "markdown",
      "metadata": {
        "id": "VKOacwIe2zV_"
      },
      "source": [
        "Classification report"
      ]
    },
    {
      "cell_type": "code",
      "metadata": {
        "colab": {
          "base_uri": "https://localhost:8080/"
        },
        "id": "7FWutc1Qv1bS",
        "outputId": "9174066b-ded3-4851-9690-9e36aa9e198b"
      },
      "source": [
        "print('Classification Report of Random Forest with no optimization')\n",
        "print(classification_report(y_test, y_pred))"
      ],
      "execution_count": 140,
      "outputs": [
        {
          "output_type": "stream",
          "text": [
            "Classification Report of Random Forest with no optimization\n",
            "              precision    recall  f1-score   support\n",
            "\n",
            "       False       0.91      0.97      0.94      2044\n",
            "        True       0.77      0.54      0.64       422\n",
            "\n",
            "    accuracy                           0.89      2466\n",
            "   macro avg       0.84      0.75      0.79      2466\n",
            "weighted avg       0.89      0.89      0.89      2466\n",
            "\n"
          ],
          "name": "stdout"
        }
      ]
    },
    {
      "cell_type": "markdown",
      "metadata": {
        "id": "2tpct9K34OP5"
      },
      "source": [
        "Optimization of the Random Forest Classifier using GridSearch"
      ]
    },
    {
      "cell_type": "code",
      "metadata": {
        "colab": {
          "base_uri": "https://localhost:8080/"
        },
        "id": "KhunNet-t69L",
        "outputId": "d48135ef-8cca-4f33-9752-02530d9bc3b6"
      },
      "source": [
        "param_grid = {\n",
        "    'n_estimators' : [60,100],\n",
        "    'max_depth' : [10,15],\n",
        "    'min_samples_leaf' : [2,4],\n",
        "    'min_samples_split': [2,4]\n",
        "}\n",
        "\n",
        "gridsearch = GridSearchCV(estimator=ranfost,param_grid=param_grid,verbose = 1)\n",
        "gridsearch.fit(X_train,y_train)\n",
        "gridsearch.best_params_"
      ],
      "execution_count": 141,
      "outputs": [
        {
          "output_type": "stream",
          "text": [
            "Fitting 5 folds for each of 16 candidates, totalling 80 fits\n"
          ],
          "name": "stdout"
        },
        {
          "output_type": "stream",
          "text": [
            "[Parallel(n_jobs=1)]: Using backend SequentialBackend with 1 concurrent workers.\n",
            "[Parallel(n_jobs=1)]: Done  80 out of  80 | elapsed:  1.1min finished\n"
          ],
          "name": "stderr"
        },
        {
          "output_type": "execute_result",
          "data": {
            "text/plain": [
              "{'max_depth': 10,\n",
              " 'min_samples_leaf': 4,\n",
              " 'min_samples_split': 2,\n",
              " 'n_estimators': 100}"
            ]
          },
          "metadata": {
            "tags": []
          },
          "execution_count": 141
        }
      ]
    },
    {
      "cell_type": "code",
      "metadata": {
        "colab": {
          "base_uri": "https://localhost:8080/"
        },
        "id": "tvBRQBFAuP9v",
        "outputId": "6f9b9d2a-50d9-44cf-a402-21999e8980c1"
      },
      "source": [
        "ranfost = RandomForestClassifier(n_estimators = 60, max_depth = 10, min_samples_leaf = 3, min_samples_split = 2, random_state = 101)\n",
        "ranfost = ranfost.fit(X_train,y_train)\n",
        "y_pred = ranfost.predict(X_test)\n",
        "print('Confusion matrix\\n', confusion_matrix(y_test, y_pred))  \n",
        "print('\\nClassification Report of Random Forest with optimization\\n', classification_report(y_test, y_pred))\n",
        "\n",
        "print('\\nTraining Accuracy :', ranfost.score(X_train, y_train))  \n",
        "print('Testing Accuracy :', ranfost.score(X_test, y_test))  "
      ],
      "execution_count": 152,
      "outputs": [
        {
          "output_type": "stream",
          "text": [
            "Confusion matrix\n",
            " [[1978   66]\n",
            " [ 188  234]]\n",
            "\n",
            "Classification Report of Random Forest with optimization\n",
            "               precision    recall  f1-score   support\n",
            "\n",
            "       False       0.91      0.97      0.94      2044\n",
            "        True       0.78      0.55      0.65       422\n",
            "\n",
            "    accuracy                           0.90      2466\n",
            "   macro avg       0.85      0.76      0.79      2466\n",
            "weighted avg       0.89      0.90      0.89      2466\n",
            "\n",
            "\n",
            "Training Accuracy : 0.9431265206812652\n",
            "Testing Accuracy : 0.8969991889699919\n"
          ],
          "name": "stdout"
        }
      ]
    }
  ]
}